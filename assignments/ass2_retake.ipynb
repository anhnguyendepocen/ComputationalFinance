{
 "cells": [
  {
   "cell_type": "markdown",
   "metadata": {},
   "source": [
    "# Retake Assignment\n",
    "\n",
    "**Deadline**: January 29th, 11.59pm. Please submit your answers to [Simon Broda](mailto:s.a.broda@uva.nl).  \n",
    "\n",
    "****NOTES****:\n",
    "* This is an individual assignment. Teamwork is **not** permitted.\n",
    "* The assignment is a partial stand-in for a final examination, so the usual rules regarding plagiarism and fraud apply, with all attendant consequences. Code found on the internet or elsewhere is not acceptable as a solution.\n",
    "* Efficient code is required for full marks.\n",
    "* Before submitting your work, **click on `Kernel`-> `Restart & Run All`** and verify that your notebook produces the desired results and does not error.\n",
    "* Some questions require you to write code to obtain a numerical result (e.g., an option price). In that case, don't just give the function, but also the result of calling it with the given parameter values (i.e., the numerial value that it returns). If your function uses random numbers, then set the seed to 0 before calling it. This makes it much easier to grade the assignments (at least as long as the answer is correct).\n",
    "\n",
    "\n",
    "|  |**Name**|**Student ID**|**Email**|\n",
    "|:-|:-------|:-------------|:--------|\n",
    "|1.|        |              |         |\n",
    "\n",
    "**Declaration of Originality**:\n",
    "\n",
    "By submitting these answers, I declare that\n",
    "1. I have read and understood the notes above.\n",
    "2. These solutions are solely my own work.\n",
    "3. I have not made these solutions available to any other student."
   ]
  },
  {
   "cell_type": "markdown",
   "metadata": {},
   "source": [
    "**Question**:\n",
    "We consider a stochastic volatility model. In this model, the risk-neutral dynamics of the log stock price $X_t\\equiv \\log S_t$ are\n",
    "$$\n",
    "dX_t=\\nu_t dt+\\sigma_tdW_{1,t},\\quad \\nu_t=r-\\delta-\\frac{1}{2}\\sigma^2_t,\n",
    "$$\n",
    "where  $r$ is the risk-free rate, $\\delta$ is the divided yield, $\\sigma_t$ is the (time-varying) volatility, and  $W_{1,t}$ is standard Brownian motion.\n",
    "\n",
    "These dynamics reduce to those of the Black-Scholes model if $\\sigma_t$ is constant. Here however, volatility is itself driven by an Ito process: starting from the current volatility $\\sigma_0$, it evolves as\n",
    "$$\n",
    "d\\sigma_t=\\kappa(\\psi-\\sigma_t)dt+\\tau dW_{2,t},\n",
    "$$\n",
    "where $W_{2,t}$ is another standard Brownian motion. In general $W_{1,t}$ and $W_{2,t}$ can be correlated, but we will assume independence for simplicity.\n",
    "The parameters can be interpreted as follows: $\\psi$ is the average volatility, $\\kappa$ is the speed at which $\\sigma_t$ reverts back to it, and $\\tau$ is the volatility of the volatility.\n",
    "\n",
    "Our goal is to price a European call option with payoff $C_T=(S_T-K)^+$ in this model. We use the following parameters: $S_0=11$, $K=10$, $r=0.02$, $\\delta=0.01$, $T=3/12$, $\\sigma=0.3$, $\\sigma_0=0.2$, $\\psi=0.3$, $\\kappa=4$, $\\tau=0.1$, $N=200$, $\\mathtt{numsim=10000}$.\n",
    "\n",
    "1. It can be shown that the average variance over the period $(t,T)$ implied by the model is\n",
    "$$\n",
    "\\overline{\\sigma^2}=\\frac{\\tau^2}{2\\kappa}+\\psi^2+\\frac{1}{T}\\left(1-e^{-\\kappa T}\\right)\\times\\left(\\frac{2\\psi}{\\kappa}(\\sigma_0-\\psi)-\\frac{\\tau^2-2\\kappa(\\sigma_0-\\psi)^2}{4\\kappa^2}\\left(1+e^{-\\kappa T}\\right)\\right), \\tag{$\\dagger$}\n",
    "$$\n",
    "and that the price of the option can be approximated by the Black-Scholes price with $\\sigma$ replaced by $\\sqrt{\\overline{\\sigma^2}}$.\n",
    "  1. Modify the function `blackscholes` from Week 4 by introducing a 6th input argument `delta` (the dividend yield), and verify that `blackscholes(11, 10, 3/12., 0.02, .2, 0.01)==1.1130843038894778`.\n",
    "  * Write a function `s2bar(T, sigma0, psi, kappa, tau)` that evaluates $(\\dagger)$, and use it to obtain the approximate option price. Both $\\sqrt{\\overline{\\sigma^2}}$ and the resulting price should be stated explicitly in your report.\n",
    "\n",
    "2. We now turn to pricing the option by Monte Carlo simulation.\n",
    "  1. Make a function `svsim(T, N, X0, r, delta, sigma0, psi, kappa, tau)` which returns `tvec`, `sigma`, and `X`, where `sigma` and `X` are simulated path(s) for respectively the volatility $\\sigma_t$ and the log asset price $X_t$, based on the (bivariate) Euler scheme. You can use `gbmsim` or `gbmsim_vec` from the lecture as a starting point (depending on which implementation you choose, your resulting `svsim` may require one or two additional inputs: `numsim` and/or `seed`). Note that regardless of your choice of implementation, you will have to create two random arrays, `z1` and `z2` say, to drive the two ito processes, instead of just `z`.\n",
    "\n",
    "  * Make a function `europeansv(S0, K, T, r, delta, sigma0, psi, kappa, tau, N=200, numsim=10000)` that uses `svsim` from the previous question to simulate paths for the price of the underlying, and returns the option price and a confidence interval. Both should be stated explicitly in your answer.\n"
   ]
  }
 ],
 "metadata": {
  "kernelspec": {
   "display_name": "Python 2",
   "language": "python",
   "name": "python2"
  },
  "language_info": {
   "codemirror_mode": {
    "name": "ipython",
    "version": 2
   },
   "file_extension": ".py",
   "mimetype": "text/x-python",
   "name": "python",
   "nbconvert_exporter": "python",
   "pygments_lexer": "ipython2",
   "version": "2.7.14"
  }
 },
 "nbformat": 4,
 "nbformat_minor": 2
}
