{
 "cells": [
  {
   "cell_type": "markdown",
   "metadata": {},
   "source": [
    "# Assignment 1\n",
    "\n",
    "**Deadline**:  November 26, 11.59pm.\n",
    "\n",
    "Your notebook should not give errors when executed with `Run All`. Please submit your answers to [Rutger Poldermans](mailto:R.W.Poldermans@uva.nl).  \n",
    "\n",
    "|  |**Name**|**Student ID**|**Email**|\n",
    "|:-|:-------|:-------------|:--------|\n",
    "|1.|        |              |         |\n",
    "|2.|        |              |         |\n",
    "\n",
    "**Declaration of Originality**:\n",
    "\n",
    "We whose names are given under 1. and 2. above declare that\n",
    "1. These solutions are solely our own work.\n",
    "2. We have not made these solutions available to any other student."
   ]
  },
  {
   "cell_type": "markdown",
   "metadata": {},
   "source": [
    "## Question 1: Testing the CAPM\n",
    "The CAPM implies that\n",
    "\\begin{equation*}\n",
    "E(R_{i}-R_{f})=\\beta _{i}E(R_{m}-R_{f}),\\qquad \\beta _{i}=\\frac{\\mathrm{cov}%\n",
    "(R_{i},R_{m})}{\\mathrm{var}(R_{m})},\n",
    "\\end{equation*}\n",
    "\n",
    "where $R_i$ is the return on a stock, and $R_m$ is the market return. Suppose we have time series on $n$ different stock or portfolio returns $\\{R_{it},i=1,\\ldots ,n\\}_{t=1}^{T}$ and on a \"market return\" (value weighted index) $\\{R_{mt}\\}_{t=1}^{T}$.  We also have observations on a risk-free interest rate $\\{R_{ft}\\}_{t=1}^{T}$ and construct with these the excess returns $r_{it}=R_{it}-R_{ft}$ and $r_{mt}=R_{mt}-R_{ft}$. Now $\\beta_i$ can be estimated from the time-series regression \\begin{equation*}\n",
    "r_{it}=\\alpha _{i}+\\beta _{i}r_{mt}+\\varepsilon _{it},\\qquad t=1,\\ldots ,T.\n",
    "\\end{equation*}\n",
    "\n",
    "One way to test the CAPM is as follows: denote by $\\bar{r}_{i}$\n",
    "and $\\hat{\\beta}_{i}$ the average excess return and estimated $\\beta$ of stock $i$. If the model $E(r_{i})=\\beta_{i}E(r_{m})$ is valid, then $(\\hat{\\beta}_{i},\\bar{r}_{i})$ should lie on a line with zero intercept and slope $\\lambda =E(r_{mt})$. This line is called the *security market line*, and $\\lambda$ is known as the *market risk premium*.\n",
    "\n",
    "We can estimate $\\lambda $ by OLS in the cross-section regression\n",
    "\\begin{equation*}\n",
    "\\bar{r}_{i}=\\lambda \\hat{\\beta}_{i}+\\alpha _{i},\\qquad i=1,\\ldots ,n.\n",
    "\\end{equation*}\n",
    "Note that $\\hat{\\beta_i}$ is the regressor, $\\lambda$ the coefficient, and $\\alpha_i$ the error term.\n",
    "\n",
    "The assignment is to estimate the CAPM betas of the 30 constituent stocks of the Dow (using the return on the Dow as the market return, and the 3 month T-bill rate as the risk-free rate), then estimate the above cross-section regression, and finally make a plot of the security market line superimposed on a scatter plot of $(\\hat{\\beta}_{i},\\bar{r}_{i})$."
   ]
  },
  {
   "cell_type": "markdown",
   "metadata": {},
   "source": [
    "**Import the relevant libraries**:"
   ]
  },
  {
   "cell_type": "code",
   "execution_count": null,
   "metadata": {
    "collapsed": true,
    "scrolled": true
   },
   "outputs": [],
   "source": []
  },
  {
   "cell_type": "markdown",
   "metadata": {},
   "source": [
    "**Obtain, from Yahoo Finance, the daily adjusted closing prices on the Dow (^DJI) from 1/1/2010 to today. Convert them into percentage log returns $r_t=100\\log(P_t/P_{t-1})$ and store them in a DataFrame `df`, which has the date as index and 'DJIA' as column name (not ^DJI; this creates a problem for the statsmodels package) **:"
   ]
  },
  {
   "cell_type": "code",
   "execution_count": null,
   "metadata": {
    "collapsed": true
   },
   "outputs": [],
   "source": []
  },
  {
   "cell_type": "markdown",
   "metadata": {},
   "source": [
    "**Obtain, from the FRED database, daily data on the 3-month T-bill rate (DTB3) for the same period and divide them by 365**:"
   ]
  },
  {
   "cell_type": "code",
   "execution_count": null,
   "metadata": {
    "collapsed": true
   },
   "outputs": [],
   "source": []
  },
  {
   "cell_type": "markdown",
   "metadata": {},
   "source": [
    "**The list `tickers` below contains the ticker symbols of the 30 constituent stocks of the Dow. Obtain the adjusted closing prices for all of them (using a `for` loop), convert them into log returns, and store those in `df`, using the ticker as column name**:"
   ]
  },
  {
   "cell_type": "code",
   "execution_count": null,
   "metadata": {
    "collapsed": true
   },
   "outputs": [],
   "source": [
    "tickers = [\"AXP\", \"AAPL\", \"BA\", \"CAT\", \"CSCO\", \"CVX\", \"XOM\", \"GE\", \"GS\", \"HD\", \"IBM\", \"INTC\", \"JNJ\", \"KO\", \"JPM\",\n",
    "          \"MCD\", \"MMM\", \"MRK\", \"MSFT\", \"NKE\", \"PFE\", \"PG\", \"TRV\", \"UNH\", \"UTX\", \"VZ\", \"V\", \"WMT\", \"DIS\", \"DWDP\" ]"
   ]
  },
  {
   "cell_type": "code",
   "execution_count": null,
   "metadata": {
    "collapsed": true
   },
   "outputs": [],
   "source": []
  },
  {
   "cell_type": "markdown",
   "metadata": {},
   "source": [
    "**Convert the raw returns in `df` to excess returns by subtracting the T-bill rate from all columns:**"
   ]
  },
  {
   "cell_type": "code",
   "execution_count": null,
   "metadata": {
    "collapsed": true
   },
   "outputs": [],
   "source": []
  },
  {
   "cell_type": "markdown",
   "metadata": {},
   "source": [
    "**Drop all rows from `df` that contain at least one NaN**:"
   ]
  },
  {
   "cell_type": "code",
   "execution_count": null,
   "metadata": {
    "collapsed": true
   },
   "outputs": [],
   "source": []
  },
  {
   "cell_type": "markdown",
   "metadata": {},
   "source": [
    "**Use a `for` loop to estimate a CAPM time series regression for each stock, and store the estimated slope coefficient in a list**. Hint: use string interpolation to construct the regression equation."
   ]
  },
  {
   "cell_type": "code",
   "execution_count": null,
   "metadata": {
    "collapsed": true,
    "scrolled": true
   },
   "outputs": [],
   "source": []
  },
  {
   "cell_type": "markdown",
   "metadata": {},
   "source": [
    "**Create a new dataframe that has `tickers` as index, and two columns: `beta`, containing the 30 estimated betas, and `meanret`, containing the mean excess returns of the 30 stocks**:"
   ]
  },
  {
   "cell_type": "code",
   "execution_count": null,
   "metadata": {
    "collapsed": true
   },
   "outputs": [],
   "source": []
  },
  {
   "cell_type": "markdown",
   "metadata": {},
   "source": [
    "**Estimate the security market line by a cross-sectional regression (without intercept), and print a summary of the result**:"
   ]
  },
  {
   "cell_type": "code",
   "execution_count": null,
   "metadata": {
    "collapsed": true
   },
   "outputs": [],
   "source": []
  },
  {
   "cell_type": "markdown",
   "metadata": {},
   "source": [
    "**Make a scatter plot of $(\\hat{\\beta}_{i},\\bar{r}_{i})$ and overlay it with a red regression line. Add a title and legend, and label the axes**:"
   ]
  },
  {
   "cell_type": "code",
   "execution_count": null,
   "metadata": {
    "collapsed": true
   },
   "outputs": [],
   "source": []
  },
  {
   "cell_type": "markdown",
   "metadata": {},
   "source": [
    "## Question 2: Backtesting Value at Risk\n",
    "In this question we construct VaR estimates for the Dow based on the RiskMetrics model, and backtest them with the DQ test. We will re-use the data from the previous question."
   ]
  },
  {
   "cell_type": "markdown",
   "metadata": {},
   "source": [
    "**Create a `pandas` series `rm` from the `DJIA` column of `df`**:"
   ]
  },
  {
   "cell_type": "code",
   "execution_count": null,
   "metadata": {
    "collapsed": true
   },
   "outputs": [],
   "source": []
  },
  {
   "cell_type": "markdown",
   "metadata": {},
   "source": [
    "**Create 1% VaR forecasts for the entire period, based on the RiskMetrics/EWMA method and assuming a $t$ distribution for the filtered returns**.\n",
    "Hints:\n",
    "* The `ewm.var` method results in a `NaN` for the first observation. Be sure to drop it before fitting a $t$ distribution to the filtered returns, or the `fit` method will choke on it.\n",
    "* The filtered residuals have mean 0 and variance 1 by construction, implying that the location parameter of the $t$ distribution is $m=0$, and the scale parameter is $h=\\sqrt{(\\nu-2)/\\nu}$. The former is easily imposed by passing `floc=0.0` to the `fit` method. The latter is a bit trickier, but you can just ignore this and estimate the scale as a free parameter.\n"
   ]
  },
  {
   "cell_type": "code",
   "execution_count": null,
   "metadata": {
    "collapsed": true
   },
   "outputs": [],
   "source": []
  },
  {
   "cell_type": "markdown",
   "metadata": {},
   "source": [
    "**Backtest your VaR regarding unconditional coverage, independence, and conditional coverage, and give a conclusion in words**:"
   ]
  },
  {
   "cell_type": "code",
   "execution_count": null,
   "metadata": {
    "collapsed": true
   },
   "outputs": [],
   "source": []
  },
  {
   "cell_type": "markdown",
   "metadata": {},
   "source": [
    "Conclusion:"
   ]
  },
  {
   "cell_type": "markdown",
   "metadata": {},
   "source": [
    "**Make a plot consisting of two subplots, the left of which shows $-R_t$ and $VaR_{t}^{0.01}$, and the right panel showing a histogram of $\\hat{z}_t$ overlaid with a fitted $t$ distribution**:"
   ]
  },
  {
   "cell_type": "code",
   "execution_count": null,
   "metadata": {
    "collapsed": true
   },
   "outputs": [],
   "source": []
  }
 ],
 "metadata": {
  "kernelspec": {
   "display_name": "Python 2",
   "language": "python",
   "name": "python2"
  },
  "language_info": {
   "codemirror_mode": {
    "name": "ipython",
    "version": 2
   },
   "file_extension": ".py",
   "mimetype": "text/x-python",
   "name": "python",
   "nbconvert_exporter": "python",
   "pygments_lexer": "ipython2",
   "version": "2.7.14"
  }
 },
 "nbformat": 4,
 "nbformat_minor": 2
}
