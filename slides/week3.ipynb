{
 "cells": [
  {
   "cell_type": "markdown",
   "metadata": {
    "slideshow": {
     "slide_type": "slide"
    }
   },
   "source": [
    "<p style=\"text-align: center; font-size: 300%\"> Computational Finance </p>\n",
    "<img src=\"img/ABSlogo.svg\" alt=\"LOGO\" style=\"display:block; margin-left: auto; margin-right: auto; width: 50%;\">"
   ]
  },
  {
   "cell_type": "markdown",
   "metadata": {
    "slideshow": {
     "slide_type": "slide"
    }
   },
   "source": [
    "# Risk Measures\n",
    "## Introduction\n",
    "* The Basel Accords mandate that financial institutions report the risk associated with their positions, so that regulators may check the adequacy of the economic capital as a buffer against market risk.\n",
    "* Reporting is the form of a *risk measure*, which condenses the risk of a position into a single number.\n",
    "* Currently, the mandated measure is *Value at Risk*, but there are debates of replacing it with an alternative (*Expected Shortfall*).\n",
    "* Banks are allowed to use their own, internal models for the computation of VaR, but the adequacy of these models should be *backtested*.\n"
   ]
  },
  {
   "cell_type": "markdown",
   "metadata": {
    "slideshow": {
     "slide_type": "slide"
    }
   },
   "source": [
    "## Value at Risk\n",
    "* Consider a portfolio with value $V_{PF,t}$ and daily returns $%\n",
    "R_{PF,t}$.\n",
    "* Define the one-day Loss on the portfolio as\n",
    "\\begin{equation*}\n",
    "\\$Loss_{t+1}=V_{PF,t}-V_{PF,t+1}.\n",
    "\\end{equation*}\n",
    "* I will distinguish between the dollar Value at Risk (an amount) and the return Value at Risk (a percentage). When unqualified, I mean the latter.\n",
    "* The one-day $100p\\%$ dollar Value at Risk\n",
    "$\\$VaR_{t+1}^{p}$ is the loss on the portfolio that we we are $100\\left(1-p\\right) \\%$ confident will not be exceeded. The Basel committee requires $p=0.01$."
   ]
  },
  {
   "cell_type": "markdown",
   "metadata": {
    "slideshow": {
     "slide_type": "slide"
    }
   },
   "source": [
    "* The *return Value at risk* $VaR_{t+1}^{p}$ expresses $\\$VaR_{t+1}^{p}$ as a percentage of the portfolio value:\n",
    "\\begin{equation*}\n",
    "VaR_{t+1}^{p}=\\frac{\\$VaR_{t+1}^{p}}{V_{PF,t}}.\n",
    "\\end{equation*}\n",
    "* Hence\n",
    "\\begin{equation*}\n",
    "\\Pr (R_{PF,t+1}<-VaR_{t+1}^{p})=p,\n",
    "\\end{equation*}\n",
    "because\n",
    "\\begin{equation*}\n",
    "R_{PF,t+1}=-\\frac{\\$Loss_{t+1}}{V_{PF,t}}.\n",
    "\\end{equation*}\n",
    "\n",
    "Thus $VaR_{t+1}^{p}$ is minus the $100p$th *percentile*\n",
    "of the return distribution. "
   ]
  },
  {
   "cell_type": "code",
   "execution_count": 63,
   "metadata": {
    "slideshow": {
     "slide_type": "skip"
    }
   },
   "outputs": [],
   "source": [
    "from matplotlib.patches import Polygon\n",
    "import scipy.stats as stats\n",
    "a, b, c = -5, 5, stats.norm.ppf(0.05)\n",
    "x = np.linspace(a, b, 100)\n",
    "y = stats.norm.pdf(x)\n",
    "fig, ax = plt.subplots(figsize=(7, 5))\n",
    "plt.plot(x, y, 'b', linewidth=2)\n",
    "plt.ylim(ymin=0)\n",
    "plt.xlim(xmin=a, xmax=b)\n",
    "Ix = np.linspace(a, c)\n",
    "Iy = stats.norm.pdf(Ix)\n",
    "verts = [(a, 0)] + list(zip(Ix, Iy)) + [(c, 0)]\n",
    "poly = Polygon(verts, facecolor='0.7', edgecolor='0.5')\n",
    "ax.add_patch(poly)\n",
    "ax.annotate('$p\\%$', xy=(-2, 0.025), xytext=(-3, 0.1),\n",
    "            arrowprops=dict(width=.5),\n",
    "            )\n",
    "plt.xlabel('$R_{PF,t+1}$')\n",
    "plt.ylabel('$f(R_{PF,t+1})$')\n",
    "\n",
    "ax.set_xticks([c, 0])\n",
    "ax.set_xticklabels(['$-VaR_{t+1}^p$', '0'])\n",
    "ax.set_yticks([])\n",
    "plt.savefig('img/var.svg')\n",
    "plt.close()"
   ]
  },
  {
   "cell_type": "markdown",
   "metadata": {
    "slideshow": {
     "slide_type": "slide"
    }
   },
   "source": [
    "<img src=\"img/var.svg\" alt=\"VaR\" style=\"display:block; margin-left: auto; margin-right: auto; width: 80%;\">"
   ]
  },
  {
   "cell_type": "markdown",
   "metadata": {
    "slideshow": {
     "slide_type": "slide"
    }
   },
   "source": [
    "## Asset Returns: Stylized Facts\n",
    "* Stylized facts about asset returns include\n",
    "  * Lack of autocorrelation\n",
    "  * Leverage effects\n",
    "  * Heavy tails of returns distribution\n",
    "  * Volatility clustering\n",
    "  \n",
    "* These need to be taken into account when creating VaR forecasts. \n"
   ]
  },
  {
   "cell_type": "markdown",
   "metadata": {
    "slideshow": {
     "slide_type": "slide"
    }
   },
   "source": [
    "## VaR Methods\n",
    "### Historical Simulation\n",
    "\n",
    "* Historical simulation assumes that the distribution of tomorrow's portfolio\n",
    "returns is well approximated by the empirical distribution (histogram) of\n",
    "the past $m$ observations $\\left\\{\n",
    "R_{PF,t},R_{PF,t-1},\\ldots,R_{PF,t+1-m}\\right\\} $.\n",
    "\n",
    "* This is as if we draw, with replacement, from the last $m$ returns and use\n",
    "this to simulate the next day's return distribution.\n",
    "\n",
    "* The estimator of VaR is given by minus the $100p$th *percentile* (or the $p$th *quantile*) of the sequence of past portfolio returns, i.e., $\\widehat{VaR}_{t+1}^{p}=-R_{t+1}^{p}$, where $R_{t+1}^{p}$ is the number such that $100p\\%$ of the observations are smaller than $R_{t+1}^{p}$.\n"
   ]
  },
  {
   "cell_type": "markdown",
   "metadata": {
    "slideshow": {
     "slide_type": "slide"
    }
   },
   "source": [
    "* In Python, we can use NumPy's `quantile` method, or the `percentile` function. Below we use `nanpercentile` which ignores that `np.isnan(r[0])==True` (Hilpisch uses scoreatpercentile, but which is obsolete)."
   ]
  },
  {
   "cell_type": "code",
   "execution_count": 159,
   "metadata": {
    "slideshow": {
     "slide_type": "-"
    }
   },
   "outputs": [
    {
     "data": {
      "image/png": "[encoded data removed]",
      "text/plain": [
       "<matplotlib.figure.Figure at 0x7f83d5f29490>"
      ]
     },
     "metadata": {},
     "output_type": "display_data"
    }
   ],
   "source": [
    "import pandas as pd\n",
    "import pandas_datareader.data as web\n",
    "from datetime import timedelta\n",
    "%matplotlib inline\n",
    "m=1000 #~4 trading years\n",
    "p=web.DataReader(\"^GSPC\", 'yahoo', end=pd.datetime.today(), start=end-timedelta(days=1000))['Adj Close']\n",
    "r=np.log(p)-np.log(p).shift(1)\n",
    "VaR=-r.quantile(.01) #Alternatively, VaR=np.nanpercentile(r,1)\n",
    "ax=r.hist(bins=30) #histogram with 30 bins\n",
    "ax.set_xticks([-VaR]);\n",
    "ax.set_xticklabels(['$-VaR_{t+1}^{0.01}$ = -%4.3f' %VaR]); #4.3f means 4 digits, of which 3 decimals"
   ]
  },
  {
   "cell_type": "markdown",
   "metadata": {
    "slideshow": {
     "slide_type": "slide"
    }
   },
   "source": [
    "* Problem: Last year(s) of data not necessarily representative for the next few days (e.g. because of volatility clustering).\n",
    "* Exacerbated by the fact that a large $m$ is required to compute $1\\%$ VaR with any degree of precision (only 1\\% of the data are really used)."
   ]
  },
  {
   "cell_type": "code",
   "execution_count": 7,
   "metadata": {
    "slideshow": {
     "slide_type": "slide"
    }
   },
   "outputs": [],
   "source": [
    "import numpy as np\n",
    "import pandas as pd\n",
    "import pandas_datareader.data as web \n",
    "start = pd.datetime(2010, 1, 1)\n",
    "end = pd.datetime.today()\n",
    "aapl = web.DataReader(\"AAPL\", 'yahoo', start, end)\n",
    "ret=np.log(aapl['Adj Close'])-np.log(aapl['Adj Close']).shift(1);\n",
    "myewm=ret.ewm(ignore_na=False,min_periods=0,adjust=True,alpha=0.06)"
   ]
  },
  {
   "cell_type": "code",
   "execution_count": 6,
   "metadata": {},
   "outputs": [
    {
     "data": {
      "text/plain": [
       "<matplotlib.axes._subplots.AxesSubplot at 0x7f83e1940110>"
      ]
     },
     "execution_count": 6,
     "metadata": {},
     "output_type": "execute_result"
    },
    {
     "data": {
      "image/png": "[encoded data removed]",
      "text/plain": [
       "<matplotlib.figure.Figure at 0x7f83e19e41d0>"
      ]
     },
     "metadata": {},
     "output_type": "display_data"
    }
   ],
   "source": [
    "?myewm\n",
    "sig=myewm.var(bias=False)\n",
    "import matplotlib.pyplot as plt\n",
    "%matplotlib inline\n",
    "sig.plot()\n"
   ]
  },
  {
   "cell_type": "markdown",
   "metadata": {
    "slideshow": {
     "slide_type": "slide"
    }
   },
   "source": [
    "# Plotting"
   ]
  },
  {
   "cell_type": "code",
   "execution_count": null,
   "metadata": {
    "collapsed": true
   },
   "outputs": [],
   "source": []
  }
 ],
 "metadata": {
  "celltoolbar": "Slideshow",
  "kernelspec": {
   "display_name": "Python 2",
   "language": "python",
   "name": "python2"
  },
  "language_info": {
   "codemirror_mode": {
    "name": "ipython",
    "version": 2
   },
   "file_extension": ".py",
   "mimetype": "text/x-python",
   "name": "python",
   "nbconvert_exporter": "python",
   "pygments_lexer": "ipython2",
   "version": "2.7.13"
  },
  "livereveal": {
   "start_slideshow_at": "selected"
  }
 },
 "nbformat": 4,
 "nbformat_minor": 2
}
