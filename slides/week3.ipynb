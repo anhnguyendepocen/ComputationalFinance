{
 "cells": [
  {
   "cell_type": "markdown",
   "metadata": {
    "slideshow": {
     "slide_type": "slide"
    }
   },
   "source": [
    "<p style=\"text-align: center; font-size: 300%\"> Computational Finance </p>\n",
    "<img src=\"img/ABSlogo.svg\" alt=\"LOGO\" style=\"display:block; margin-left: auto; margin-right: auto; width: 50%;\">"
   ]
  },
  {
   "cell_type": "code",
   "execution_count": 1,
   "metadata": {
    "collapsed": true,
    "slideshow": {
     "slide_type": "skip"
    }
   },
   "outputs": [],
   "source": [
    "#silence some warnings\n",
    "import warnings\n",
    "warnings.filterwarnings('ignore')"
   ]
  },
  {
   "cell_type": "markdown",
   "metadata": {
    "slideshow": {
     "slide_type": "slide"
    }
   },
   "source": [
    "# Plotting Basics\n",
    "* Plotting in (scientific) Python is mostly done via the `matplotlib` library ([Documentation](https://matplotlib.org/users/index.html)), which is inspired by the plotting facilities of Matlab&reg;.\n",
    "* Its main plotting facilities reside in its `pyplot` module. Usually imported as"
   ]
  },
  {
   "cell_type": "code",
   "execution_count": 2,
   "metadata": {
    "collapsed": true
   },
   "outputs": [],
   "source": [
    "import matplotlib.pyplot as plt\n",
    "%matplotlib inline"
   ]
  },
  {
   "cell_type": "markdown",
   "metadata": {},
   "source": [
    "* The second line is an [ipython magic](http://ipython.readthedocs.io/en/stable/interactive/magics.html). It makes plots appear inline in the notebook.\n",
    "* The `seaborn` library ([Documentation](https://seaborn.pydata.org/tutorial.html)) provides higher-level statistical visualizations:"
   ]
  },
  {
   "cell_type": "code",
   "execution_count": 3,
   "metadata": {
    "collapsed": true
   },
   "outputs": [],
   "source": [
    "import seaborn as sns"
   ]
  },
  {
   "cell_type": "markdown",
   "metadata": {},
   "source": [
    "* Finally, `statsmodels` is useful for QQ plots (see below):"
   ]
  },
  {
   "cell_type": "code",
   "execution_count": 4,
   "metadata": {
    "collapsed": true
   },
   "outputs": [],
   "source": [
    "import statsmodels.api as sm"
   ]
  },
  {
   "cell_type": "markdown",
   "metadata": {
    "slideshow": {
     "slide_type": "slide"
    }
   },
   "source": [
    "* I will only give a brief introduction to matplotlib here. However, the code for all graphs shown below is included in the notebook (though sometimes hidden in slide mode), and should be studied.\n",
    "* The fundamental object in matplotlib is a `figure`, inside of which reside `subplots` (or `axes`).\n",
    "* To create a new figure, add an axis, and plot to it:"
   ]
  },
  {
   "cell_type": "code",
   "execution_count": 5,
   "metadata": {},
   "outputs": [
    {
     "data": {
      "image/png": "[encoded data removed]",
      "text/plain": [
       "<matplotlib.figure.Figure at 0x7f5871aecf10>"
      ]
     },
     "metadata": {},
     "output_type": "display_data"
    }
   ],
   "source": [
    "#with the inline backend, these need to be in the same cell.\n",
    "fig=plt.figure(figsize=(6,3)) #create a new empty figure object. Size is optional.\n",
    "ax1=fig.add_subplot(121) #(1x2) axes and make the first one current (what plt.* commands operate on)\n",
    "ax2=fig.add_subplot(122) #(1x2) axes and make the second one current \n",
    "ax1.plot(range(10))\n",
    "ax2.plot(range(10,0,-1));"
   ]
  },
  {
   "cell_type": "markdown",
   "metadata": {
    "slideshow": {
     "slide_type": "slide"
    }
   },
   "source": [
    "* By default matplotlib plots into the current axis, creating one (and a figure) if needed. Using the convenience method `subplot`, this allows us to achieve the same without explicit reference to figures and axes:"
   ]
  },
  {
   "cell_type": "code",
   "execution_count": 6,
   "metadata": {
    "slideshow": {
     "slide_type": "-"
    }
   },
   "outputs": [
    {
     "data": {
      "image/png": "[encoded data removed]",
      "text/plain": [
       "<matplotlib.figure.Figure at 0x7f586e126e10>"
      ]
     },
     "metadata": {},
     "output_type": "display_data"
    }
   ],
   "source": [
    "plt.subplot(121)\n",
    "plt.plot(range(10))\n",
    "plt.subplot(122) \n",
    "plt.plot(range(10, 0, -1));"
   ]
  },
  {
   "cell_type": "markdown",
   "metadata": {
    "slideshow": {
     "slide_type": "slide"
    }
   },
   "source": [
    "* To plot two vectors $x$ and $y$ against each other:"
   ]
  },
  {
   "cell_type": "code",
   "execution_count": 7,
   "metadata": {
    "slideshow": {
     "slide_type": "-"
    }
   },
   "outputs": [
    {
     "data": {
      "image/png": "[encoded data removed]",
      "text/plain": [
       "<matplotlib.figure.Figure at 0x7f5871aecd10>"
      ]
     },
     "metadata": {},
     "output_type": "display_data"
    }
   ],
   "source": [
    "import numpy as np\n",
    "x=np.linspace(-10,10,100)\n",
    "y=x**2\n",
    "plt.plot(x,y,'r--') #dashed red line; see table on p. 114\n",
    "plt.xlabel('$x$') #LaTeX equations can be included by enclosing in $$\n",
    "plt.ylabel('$y$')\n",
    "plt.title('A Parabola')\n",
    "plt.legend(['$f(x)$']); #Expects a list of strings\n",
    "plt.xlim(xmin=-8, xmax=8); #axis limits\n",
    "#plt.savefig('filename.svg') #to save a plot to disk"
   ]
  },
  {
   "cell_type": "markdown",
   "metadata": {
    "slideshow": {
     "slide_type": "slide"
    }
   },
   "source": [
    "# Risk Measures\n",
    "## Introduction\n",
    "* The Basel Accords mandate that financial institutions report the risk associated with their positions, so that regulators may check the adequacy of the economic capital as a buffer against market risk.\n",
    "* Reporting is in the form of a *risk measure*, which condenses the risk of a position into a single number.\n",
    "* Currently, the mandated measure is *Value at Risk* (VaR), but there are debates of replacing it with an alternative (*Expected Shortfall*).\n",
    "* Banks are allowed to use their own, internal models for the computation of VaR, but the adequacy of these models should be *backtested*.\n"
   ]
  },
  {
   "cell_type": "markdown",
   "metadata": {
    "slideshow": {
     "slide_type": "slide"
    }
   },
   "source": [
    "## Value at Risk\n",
    "* Consider a portfolio with value $V_{t}$ and daily (simple) returns $R_{t}$.\n",
    "* Define the one-day loss on the portfolio as\n",
    "\n",
    "$$\n",
    "\\$Loss_{t+1}=-\\left[V_{t+1}-V_{t}\\right].\n",
    "$$\n",
    "\n",
    "* I will distinguish between the dollar Value at Risk (an amount) and the return Value at Risk (a percentage). When unqualified, I mean the latter.\n",
    "* The one-day $100p\\%$ dollar Value at Risk\n",
    "$\\$VaR_{t+1}^{p}$ is the loss on the portfolio that we are $100\\left(1-p\\right) \\%$ confident will not be exceeded. The Basel committee prescribes $p=0.01$."
   ]
  },
  {
   "cell_type": "markdown",
   "metadata": {
    "slideshow": {
     "slide_type": "slide"
    }
   },
   "source": [
    "* The *return Value at risk* $VaR_{t+1}^{p}$ expresses\n",
    "$\\$VaR_{t+1}^{p}$\n",
    "as a percentage of the portfolio value:\n",
    "\n",
    "$$\n",
    "VaR_{t+1}^{p}=\\frac{\\$VaR_{t+1}^{p}}{V_{t}}.\n",
    "$$\n",
    "* Hence\n",
    "$$\n",
    "\\Pr (R_{t+1}<-VaR_{t+1}^{p})=p,\n",
    "$$\n",
    "because\n",
    "$$\n",
    "R_{t+1}=-\\frac{\\$Loss_{t+1}}{V_{t}}.\n",
    "$$\n",
    "This holds approximately for log returns, too.\n",
    "\n",
    "* Thus $VaR_{t+1}^{p}$ is minus the $100p$th *percentile* (or minus the $p$th *quantile*) of the return distribution."
   ]
  },
  {
   "cell_type": "code",
   "execution_count": 8,
   "metadata": {
    "collapsed": true,
    "slideshow": {
     "slide_type": "skip"
    }
   },
   "outputs": [],
   "source": [
    "from matplotlib.patches import Polygon\n",
    "import scipy.stats as stats #The book likes to import it as `scs`\n",
    "a, b, c = -5, 5, stats.norm.ppf(0.05)\n",
    "x = np.linspace(a, b, 100)\n",
    "y = stats.norm.pdf(x)\n",
    "fig = plt.figure(figsize=(7, 5))\n",
    "ax=fig.add_subplot(111)\n",
    "plt.plot(x, y, 'b', linewidth=2)\n",
    "plt.ylim(ymin=0)\n",
    "plt.xlim(xmin=a, xmax=b)\n",
    "Ix = np.linspace(a, c)\n",
    "Iy = stats.norm.pdf(Ix)\n",
    "verts = [(a, 0)] + list(zip(Ix, Iy)) + [(c, 0)]\n",
    "poly = Polygon(verts, facecolor='0.7', edgecolor='0.5')\n",
    "ax.add_patch(poly)\n",
    "ax.annotate('$p\\%$', xy=(-2, 0.025), xytext=(-3, 0.1),\n",
    "            arrowprops=dict(width=.5),\n",
    "            )\n",
    "plt.xlabel('$R_{PF,t+1}$')\n",
    "plt.ylabel('$f(R_{PF,t+1})$')\n",
    "\n",
    "ax.set_xticks([c, 0])\n",
    "ax.set_xticklabels(['$-VaR_{t+1}^p$', '0'])\n",
    "ax.set_yticks([])\n",
    "plt.savefig('img/var.svg')\n",
    "plt.close()"
   ]
  },
  {
   "cell_type": "markdown",
   "metadata": {
    "slideshow": {
     "slide_type": "slide"
    }
   },
   "source": [
    "<img src=\"img/var.svg\" alt=\"VaR\" style=\"display:block; margin-left: auto; margin-right: auto; width: 80%;\">"
   ]
  },
  {
   "cell_type": "markdown",
   "metadata": {
    "slideshow": {
     "slide_type": "slide"
    }
   },
   "source": [
    "## Asset Returns: Stylized Facts\n",
    "* Stylized facts about asset returns include\n",
    "  * Lack of autocorrelation\n",
    "  * Leverage effects\n",
    "  * Heavy tails of return distribution\n",
    "  * Volatility clustering\n",
    "  \n",
    "* These need to be taken into account when creating VaR forecasts. \n"
   ]
  },
  {
   "cell_type": "code",
   "execution_count": 9,
   "metadata": {
    "collapsed": true,
    "slideshow": {
     "slide_type": "slide"
    }
   },
   "outputs": [],
   "source": [
    "import pandas as pd\n",
    "import pandas_datareader.data as web\n",
    "p=web.DataReader(\"^GSPC\", 'yahoo', start='1/1/2013', end='10/12/2017')['Adj Close']\n",
    "r=np.log(p)-np.log(p).shift(1)\n",
    "r.name='Return'\n",
    "r=r[1:] #remove first observation (NaN)\n",
    "plt.figure(figsize=(12,4))\n",
    "plt.subplot(121)\n",
    "sns.distplot(r, kde=False, fit=stats.norm) #histogram overlaid with fitted normal density\n",
    "plt.subplot(122)\n",
    "r.plot() #note that this is a pandas method! looks prettier than plt.plot(r)\n",
    "plt.savefig('img/stylizedfacts.svg') #save to file\n",
    "plt.close()"
   ]
  },
  {
   "cell_type": "markdown",
   "metadata": {
    "slideshow": {
     "slide_type": "slide"
    }
   },
   "source": [
    "<img src=\"img/stylizedfacts.svg\" alt=\"Stylized Facts\" style=\"display:block; margin-left: auto; margin-right: auto; width: 80%;\">"
   ]
  },
  {
   "cell_type": "markdown",
   "metadata": {
    "slideshow": {
     "slide_type": "slide"
    }
   },
   "source": [
    "## VaR Methods: Unconditional\n",
    "### Non-parametric: Historical Simulation\n",
    "\n",
    "* Historical simulation assumes that the distribution of tomorrow's portfolio\n",
    "returns is well approximated by the empirical distribution (histogram) of\n",
    "the past $m$ observations $\\left\\{\n",
    "R_{t}, R_{t-1},\\ldots, R_{t+1-m}\\right\\} $.\n",
    "\n",
    "* This is as if we draw, with replacement, from the last $m$ returns and use\n",
    "this to simulate the next day's return distribution.\n",
    "\n",
    "* The estimator of VaR is given by minus the $p$th *sample quantile* of the last $m$ portfolio returns, i.e., $\\widehat{VaR}_{t+1}^{p}=-R^m_{p}$, where $R^m_{p}$ is the number such that $100p\\%$ of the observations are smaller than it.\n"
   ]
  },
  {
   "cell_type": "markdown",
   "metadata": {
    "slideshow": {
     "slide_type": "slide"
    }
   },
   "source": [
    "* In Python, we can use NumPy's `quantile` method, or the `percentile` function (or `nanpercentile` which ignores `NaN`s). Hilpisch uses `scoreatpercentile`, but that is is deprecated."
   ]
  },
  {
   "cell_type": "code",
   "execution_count": 10,
   "metadata": {
    "slideshow": {
     "slide_type": "-"
    }
   },
   "outputs": [
    {
     "data": {
      "text/plain": [
       "0.02131716077914799"
      ]
     },
     "execution_count": 10,
     "metadata": {},
     "output_type": "execute_result"
    }
   ],
   "source": [
    "VaR_hist=-r.quantile(.01) #Alternatively, VaR=np.percentile(r,1)\n",
    "VaR_hist"
   ]
  },
  {
   "cell_type": "code",
   "execution_count": 11,
   "metadata": {
    "collapsed": true,
    "slideshow": {
     "slide_type": "-"
    }
   },
   "outputs": [],
   "source": [
    "ax=r.hist(bins=30) #another pandas method: histogram with 30 bins\n",
    "ax.set_xticks([-VaR_hist])\n",
    "ax.set_xticklabels(['$-VaR_{t+1}^{0.01}$ = -%4.3f' %VaR_hist]) #4.3f means 4 digits, of which 3 decimals\n",
    "plt.title('Historical VaR')\n",
    "plt.savefig('img/var_hist.svg')\n",
    "plt.close()"
   ]
  },
  {
   "cell_type": "markdown",
   "metadata": {
    "slideshow": {
     "slide_type": "slide"
    }
   },
   "source": [
    "<img src=\"img/var_hist.svg\" alt=\"VaR_hist\" style=\"display:block; margin-left: auto; margin-right: auto; width: 80%;\">"
   ]
  },
  {
   "cell_type": "markdown",
   "metadata": {
    "slideshow": {
     "slide_type": "slide"
    }
   },
   "source": [
    "* Problem: Last year(s) of data not necessarily representative for the next few days (e.g. because of volatility clustering).\n",
    "* Exacerbated by the fact that a large $m$ is required to compute 1% VaR with any degree of precision (only 1% of the data are really used)."
   ]
  },
  {
   "cell_type": "markdown",
   "metadata": {
    "slideshow": {
     "slide_type": "slide"
    }
   },
   "source": [
    "### Parametric: Normal and $t$ Distributions\n",
    "* Another simple approach is to\n",
    "assume $R_{t+1}\\sim N(\\mu ,\\sigma ^{2})$, and to estimate $\\mu $\n",
    "and $\\sigma ^{2}$ from historical data (for daily data, $\\mu \\approx 0$). The VaR is then determined from\n",
    "\n",
    "\\begin{align*}\n",
    "\\Pr \\left( R_{t+1}<-VaR_{t+1}^{p}\\right) &=\\Pr \\left( \\frac{R_{t+1}-\\mu }{\n",
    "\\sigma }<\\frac{-VaR_{t+1}^{p}-\\mu }{\\sigma }\\right) \\\\\n",
    "&=\\Pr \\left( z_{t+1}<\\frac{-VaR_{t+1}^{p}-\\mu }{\\sigma }\\right) \\\\\n",
    "&=\\Phi \\left( \\frac{-VaR_{t+1}^{p}-\\mu }{\\sigma }\\right) =p,\n",
    "\\end{align*}\n",
    "\n",
    "where $\\Phi (z)$ is the cumulative standard normal distribution."
   ]
  },
  {
   "cell_type": "markdown",
   "metadata": {
    "slideshow": {
     "slide_type": "slide"
    }
   },
   "source": [
    "* Thus,\n",
    "$$\n",
    "VaR_{t+1}^{p}=-\\mu -\\sigma \\Phi^{-1}(p),\n",
    "$$\n",
    "where $\\Phi ^{-1}(p)$ is the inverse distribution function of the standard normal, a.k.a. the *percentage point function* (ppf).\n",
    "* In Python:"
   ]
  },
  {
   "cell_type": "code",
   "execution_count": 12,
   "metadata": {},
   "outputs": [
    {
     "data": {
      "text/plain": [
       "0.017257996794445292"
      ]
     },
     "execution_count": 12,
     "metadata": {},
     "output_type": "execute_result"
    }
   ],
   "source": [
    "mu, sig=stats.norm.fit(r) #fit a normal distribution to r\n",
    "VaR_norm=-mu-sig*stats.norm.ppf(0.01)\n",
    "VaR_norm"
   ]
  },
  {
   "cell_type": "code",
   "execution_count": 13,
   "metadata": {
    "collapsed": true,
    "slideshow": {
     "slide_type": "skip"
    }
   },
   "outputs": [],
   "source": [
    "ax=sns.distplot(r, kde=False, fit=stats.norm) #histogram overlaid with fitted normal density\n",
    "ax.set_xticks([-VaR_norm])\n",
    "ax.set_xticklabels(['$-VaR_{t+1}^{0.01}$ = -%4.3f' %VaR_norm])\n",
    "ax.text(0.02,60,'$\\mu=%7.6f$\\n$\\sigma=%7.6f$' %(mu, sig)) #\\n is newline\n",
    "plt.title('Normal VaR')\n",
    "plt.savefig('img/var_norm.svg')\n",
    "plt.close()"
   ]
  },
  {
   "cell_type": "markdown",
   "metadata": {
    "slideshow": {
     "slide_type": "slide"
    }
   },
   "source": [
    "<img src=\"img/var_norm.svg\" alt=\"VaR_norm\" style=\"display:block; margin-left: auto; margin-right: auto; width: 80%;\">"
   ]
  },
  {
   "cell_type": "markdown",
   "metadata": {
    "slideshow": {
     "slide_type": "slide"
    }
   },
   "source": [
    "* Problems:\n",
    "  * Variance of the past year(s) of data not necessarily representative for the future.\n",
    "  * Returns typically have heavier tails than the normal.\n",
    "* The solution to the second point is to use another distribution. The Student's $t$ distribution is a popular choice."
   ]
  },
  {
   "cell_type": "markdown",
   "metadata": {
    "slideshow": {
     "slide_type": "slide"
    }
   },
   "source": [
    "* The Student's $t$ distribution with $\\nu$ degrees of freedom, $t_\\nu$, is well known from linear regression\n",
    "as the distribution of $t$-statistics, where $\\nu=T-k$.\n",
    "\n",
    "* Can be generalized to allow $\\nu\\in\\mathbb{R}_+$.\n",
    "\n",
    "* Smaller values of $\\nu$ correspond to heavier tails. As $\\nu\\rightarrow \\infty $, we approach the $N(0,1)$ distribution.\n",
    "\n",
    "* It only has moments up to but not including $\\nu$:\n",
    "  * The mean is finite and equal to zero if $\\nu>1$.\n",
    "  * The variance is finite and equal to $\\nu/(\\nu-2)$ if $\\nu>2$.\n",
    "  * The excess kurtosis is finite and equal to $6/(\\nu-4)$ if $\\nu>4$.\n",
    "\n",
    "* The distributions are symmetric around $0$, hence mean and skewness are $0$ if they exist.\n"
   ]
  },
  {
   "cell_type": "code",
   "execution_count": 14,
   "metadata": {
    "collapsed": true,
    "slideshow": {
     "slide_type": "skip"
    }
   },
   "outputs": [],
   "source": [
    "x=np.linspace(-6,6,510)\n",
    "df=[1, 2, 3, 10]\n",
    "for nu in df:\n",
    "    plt.plot(x, stats.t.pdf(x, nu))\n",
    "legend=['$\\\\nu=%1.0f$' % nu for nu in df] #need double escaping: \\\\nu, not \\nu, because \\n is newline\n",
    "plt.plot(x, stats.norm.pdf(x))\n",
    "legend.append('Normal')\n",
    "plt.legend(legend)\n",
    "plt.title(\"Student's $t$ Densities\")\n",
    "plt.xlabel('x')\n",
    "plt.ylabel('$f_{\\\\nu}(x)$')\n",
    "plt.savefig('img/tdists.svg')\n",
    "plt.close()"
   ]
  },
  {
   "cell_type": "markdown",
   "metadata": {
    "slideshow": {
     "slide_type": "slide"
    }
   },
   "source": [
    "<img src=\"img/tdists.svg\" alt=\"t distributions\" style=\"display:block; margin-left: auto; margin-right: auto; width: 80%;\">"
   ]
  },
  {
   "cell_type": "markdown",
   "metadata": {
    "slideshow": {
     "slide_type": "slide"
    }
   },
   "source": [
    "* For financial applications, we need to allow for a non-zero mean, and a variance different from $\\nu/(\\nu-2)$.\n",
    "* This is achieved by introducing a *location parameter* $m$ and a *scale parameter* $h$. We'll write $f_\\nu(x;m,h)$ for the resulting density, $F_\\nu(x;m,h)$ for the distribution function, and $F^{-1}_\\nu(p;m,h)$ for the percentage point function.\n",
    "* Note that if $x\\sim t_\\nu(m,h)$, $\\nu>2$, then $\\mathbb{E}[x]=m$ and $\\mathrm{var}[x]=h^2\\nu/(\\nu-2)$.\n",
    "* The VaR becomes\n",
    "\\begin{equation*}\n",
    "VaR_{t+1}^{p}=-m -h F^{-1}_\\nu(p;0,0).\n",
    "\\end{equation*}\n",
    "* In Python:"
   ]
  },
  {
   "cell_type": "code",
   "execution_count": 15,
   "metadata": {
    "slideshow": {
     "slide_type": "-"
    }
   },
   "outputs": [
    {
     "data": {
      "text/plain": [
       "0.021244629280331669"
      ]
     },
     "execution_count": 15,
     "metadata": {},
     "output_type": "execute_result"
    }
   ],
   "source": [
    "df, m, h=stats.t.fit(r) #fit a location-scale t distribution to r\n",
    "VaR_t=-m-h*stats.t.ppf(0.01, df)\n",
    "VaR_t"
   ]
  },
  {
   "cell_type": "code",
   "execution_count": 16,
   "metadata": {
    "collapsed": true,
    "slideshow": {
     "slide_type": "skip"
    }
   },
   "outputs": [],
   "source": [
    "ax=sns.distplot(r, kde=False, fit=stats.t) #histogram overlaid with fitted t density\n",
    "ax.set_xticks([-VaR_t])\n",
    "ax.set_xticklabels(['$-VaR_{t+1}^{0.01}$ = -%4.3f' %VaR_t])\n",
    "ax.text(0.02,60,'$m=%7.6f$\\n$h=%7.6f$\\n$\\\\nu=%7.6f$' %(m, h, df))\n",
    "plt.title(\"Student's $t$ VaR\")\n",
    "plt.savefig('img/var_t.svg')\n",
    "plt.close()"
   ]
  },
  {
   "cell_type": "markdown",
   "metadata": {
    "slideshow": {
     "slide_type": "slide"
    }
   },
   "source": [
    "<img src=\"img/var_t.svg\" alt=\"VaR_t\" style=\"display:block; margin-left: auto; margin-right: auto; width: 80%;\">"
   ]
  },
  {
   "cell_type": "markdown",
   "metadata": {
    "slideshow": {
     "slide_type": "slide"
    }
   },
   "source": [
    "* There are several ways to assess whether a distributional assumption is adequate.\n",
    "* One is to use a *goodness of fit test*. Many such tests exist.\n",
    "* Hilpisch discusses the D'Agostino-Pearson test, available as `stats.normaltest`.\n",
    "* Here we use the Jarque-Bera test. The test statistic is\n",
    "$$\n",
    "JB=N\\left(S^2/6+(K-3)/24\\right),\n",
    "$$\n",
    "where $S$ and $K$ are respectively the sample skewness and kurtosis.\n",
    "* Intuitively, it tests that the skewness and excess kurtosis are zero.\n",
    "* It is distributed as $\\chi^2_2$ under the null of normality. The 5% critical value is "
   ]
  },
  {
   "cell_type": "code",
   "execution_count": 17,
   "metadata": {},
   "outputs": [
    {
     "data": {
      "text/plain": [
       "5.9914645471079799"
      ]
     },
     "execution_count": 17,
     "metadata": {},
     "output_type": "execute_result"
    }
   ],
   "source": [
    "stats.chi2.ppf(0.95, 2)"
   ]
  },
  {
   "cell_type": "markdown",
   "metadata": {},
   "source": [
    "* In Python:"
   ]
  },
  {
   "cell_type": "code",
   "execution_count": 18,
   "metadata": {},
   "outputs": [
    {
     "data": {
      "text/plain": [
       "(410.78923631633768, 0.0)"
      ]
     },
     "execution_count": 18,
     "metadata": {},
     "output_type": "execute_result"
    }
   ],
   "source": [
    "stats.jarque_bera(r) #returns (JB, p-val)"
   ]
  },
  {
   "cell_type": "markdown",
   "metadata": {
    "slideshow": {
     "slide_type": "slide"
    }
   },
   "source": [
    "* Another option is to use a QQ-plot (quantile-quantile plot).\n",
    "* It plots the empirical quantiles against the quantiles of a hypothesized distribution, e.g. $\\Phi^{-1}(p)$ for the normal.\n",
    "* If the distributional assumption is correct, then the plot should trace out the 45 degree line."
   ]
  },
  {
   "cell_type": "code",
   "execution_count": 19,
   "metadata": {
    "collapsed": true,
    "slideshow": {
     "slide_type": "skip"
    }
   },
   "outputs": [],
   "source": [
    "#This is the manual way to do it.\n",
    "x=np.linspace(.01,.99)\n",
    "emp=r.quantile(x)\n",
    "mu, sig=stats.norm.fit(r)\n",
    "theo=stats.norm.ppf(x, mu, sig)\n",
    "ax=plt.plot(theo, emp.values, 'o')\n",
    "plt.xlabel('Theoretical Quantiles')\n",
    "plt.ylabel('Sample Quantiles')\n",
    "plt.title('QQ Plot vs. Normal')\n",
    "plt.savefig('img/qq_norm.svg')\n",
    "plt.close()"
   ]
  },
  {
   "cell_type": "markdown",
   "metadata": {
    "slideshow": {
     "slide_type": "slide"
    }
   },
   "source": [
    "<img src=\"img/qq_norm.svg\" alt=\"QQ Plot\" style=\"display:block; margin-left: auto; margin-right: auto; width: 80%;\">"
   ]
  },
  {
   "cell_type": "code",
   "execution_count": 20,
   "metadata": {
    "collapsed": true,
    "slideshow": {
     "slide_type": "skip"
    }
   },
   "outputs": [],
   "source": [
    "#this is a bit simpler\n",
    "sm.qqplot(r, dist=stats.t, fit=True)\n",
    "plt.title(\"QQ Plot vs. Student's $t$\")\n",
    "plt.savefig('img/qq_t.svg')\n",
    "plt.close()"
   ]
  },
  {
   "cell_type": "markdown",
   "metadata": {
    "slideshow": {
     "slide_type": "slide"
    }
   },
   "source": [
    "<img src=\"img/qq_t.svg\" alt=\"QQ Plot\" style=\"display:block; margin-left: auto; margin-right: auto; width: 80%;\">"
   ]
  },
  {
   "cell_type": "markdown",
   "metadata": {
    "slideshow": {
     "slide_type": "slide"
    }
   },
   "source": [
    "## VaR Methods: Filtered\n",
    "\n",
    "* All methods discussed so far share one drawback: they assume that the volatility is constant, at least in the estimation (and forecast) period. \n",
    "* Implicitly, the Normal and Student's $t$ method use the *historical volatility*: \n",
    "$$\n",
    "\\sigma _{t+1,HIST}^{2}=\\frac{1}{m}\\sum_{j=0}^{m-1}R_{t-j}^{2}.\n",
    "$$\n",
    "(Note: volatility usually means standard deviation, not variance. I'll be sloppy here).\n",
    "* Here we assumed a zero mean, which is realistic for daily returns.\n",
    "* Some adaptability is gained by choosing a smaller $m$ such as 250 (one trading year), but there is a tradeoff because doing so decreases the sample size.\n",
    "* A general solution requires a *volatility model*, which will be discussed in *Advanced Risk Management*."
   ]
  },
  {
   "cell_type": "markdown",
   "metadata": {
    "slideshow": {
     "slide_type": "slide"
    }
   },
   "source": [
    "* A Pandas `Series` object has a `rolling` method that can be used to construct historial volatilities for an entire series, using, at each day, the past $m$ observations.\n",
    "* The method returns a special window object that in turn has a method `var` (for variance)."
   ]
  },
  {
   "cell_type": "code",
   "execution_count": 21,
   "metadata": {
    "slideshow": {
     "slide_type": "-"
    }
   },
   "outputs": [
    {
     "data": {
      "image/png": "[encoded data removed]",
      "text/plain": [
       "<matplotlib.figure.Figure at 0x7f5871ab9c90>"
      ]
     },
     "metadata": {},
     "output_type": "display_data"
    }
   ],
   "source": [
    "sig2_hist=r.rolling(window=250).var()\n",
    "sig2_hist.plot();"
   ]
  },
  {
   "cell_type": "markdown",
   "metadata": {
    "slideshow": {
     "slide_type": "slide"
    }
   },
   "source": [
    "* A partial solution to the drawbacks of historical volatility is given by the RiskMetrics model, which is a special case of a more general framework known as *GARCH* models.\n",
    "* The idea is to replace the equally weighted moving average used in historical volatility by an exponentially weighted moving average (EWMA):\n",
    "\n",
    "\\begin{align*}\n",
    "\\sigma _{t+1,EWMA}^{2} &=(1-\\lambda )\\sum_{j=0}^{\\infty }\\lambda\n",
    "^{j}R_{t-j}^{2} \\\\\n",
    "&=\\lambda \\sigma _{t,EWMA}^{2}+(1-\\lambda )R_{t}^{2},\\qquad 0<\\lambda <1.\n",
    "\\end{align*}\n",
    "\n",
    "* This means that observations further in the past get a smaller weight.\n",
    "\n",
    "* Smaller $\\lambda$ means faster downweighting; for $\\lambda\\rightarrow 1$ we approach historical volatility (with an expanding window).\n",
    "\n",
    "* In practice we do not have $R_{t-\\infty }$, but the second equation\n",
    "can be started up by an initial estimate / guess $\\sigma _{0,EWMA}^{2}$.\n",
    "\n",
    "* For daily data, RiskMetrics recommends $\\lambda =0.94$."
   ]
  },
  {
   "cell_type": "markdown",
   "metadata": {
    "slideshow": {
     "slide_type": "slide"
    }
   },
   "source": [
    "* The `ewm` (exponentially moving average) method of a Pandas `Series` can be used to achieve something similar (the exact definition is slightly different, see [here](http://pandas.pydata.org/pandas-docs/stable/computation.html#exponentially-weighted-windows)).\n",
    "* As before, the method returns a window object that has a  `var` method."
   ]
  },
  {
   "cell_type": "code",
   "execution_count": 22,
   "metadata": {
    "scrolled": true,
    "slideshow": {
     "slide_type": "-"
    }
   },
   "outputs": [
    {
     "data": {
      "image/png": "[encoded data removed]",
      "text/plain": [
       "<matplotlib.figure.Figure at 0x7f586c00bf50>"
      ]
     },
     "metadata": {},
     "output_type": "display_data"
    }
   ],
   "source": [
    "sig2_ewma=r.ewm(alpha=0.06).var() #alpha=(1-lambda)\n",
    "sig2_ewma.plot();"
   ]
  },
  {
   "cell_type": "markdown",
   "metadata": {
    "slideshow": {
     "slide_type": "slide"
    }
   },
   "source": [
    "* The idea behind a filtered VaR method is to decompose the returns as \n",
    "$$\n",
    "R_t=\\mu+\\sigma_t z_t, \\quad z_t\\stackrel{\\mathrm{\\small i.i.d}}{\\sim}(0,1),\n",
    "$$\n",
    "so that $\\mathbb{E}[R_t]=\\mu$ and $\\mathrm{var}[R_t]=\\sigma^2_t$. In principle, $\\mu$ could be time-varying as well.\n",
    "* Let $z_{p}$ denote the $100p\\%$ percentile of  \n",
    "$$\n",
    "z_t=\\frac{R_t-\\mu}{\\sigma_t}.\n",
    "$$\n",
    "It can be estimated by applying any of the VaR methods above (historical, normal, or Student's t) to the *filtered* (demeaned and devolatized) returns\n",
    "$$\n",
    "\\hat{z}_t=\\frac{R_t-\\hat{\\mu}}{\\hat{\\sigma}_t}\n",
    "$$\n",
    "* Finally, $VaR_{t+1}^p=-\\mu-\\sigma_{t+1} z_{p}$."
   ]
  },
  {
   "cell_type": "code",
   "execution_count": 23,
   "metadata": {
    "slideshow": {
     "slide_type": "slide"
    }
   },
   "outputs": [
    {
     "data": {
      "image/png": "[encoded data removed]",
      "text/plain": [
       "<matplotlib.figure.Figure at 0x7f5871a3cc90>"
      ]
     },
     "metadata": {},
     "output_type": "display_data"
    }
   ],
   "source": [
    "sig_ewma=np.sqrt(sig2_ewma)\n",
    "mu=np.mean(r)\n",
    "z=(r-mu)/sig_ewma #assuming mu=0\n",
    "VaR_filtered_hist=-mu-sig_ewma*z.quantile(0.01)\n",
    "VaR_filtered_hist.plot(color='red');\n",
    "plt.plot(-r)\n",
    "plt.title('Filtered Historical VaR');"
   ]
  },
  {
   "cell_type": "markdown",
   "metadata": {
    "slideshow": {
     "slide_type": "slide"
    }
   },
   "source": [
    "## Backtesting\n",
    "* The Basel accords require that banks' internal VaR models be *backtested*.\n",
    "\n",
    "* They recommend constructing the 1% VaR over the last 250 trading days\n",
    "and counting the number of *VaR exceptions* (times that losses exceeded the day's VaR figure).\n",
    "\n",
    "* A method is said to lie in the:\n",
    "\n",
    "  * Green zone, in case of 0-4 exceptions;\n",
    "  * Yellow zone, in case of 5-9 exceptions;\n",
    "  * Red zone, in case of 10 or more exceptions.\n",
    "* Being in one of the latter two incurs an extra capital charge."
   ]
  },
  {
   "cell_type": "markdown",
   "metadata": {
    "slideshow": {
     "slide_type": "slide"
    }
   },
   "source": [
    "* A more advanced method is the *dynamic quantile* (DQ) test by Engle and Manganelli (2004).\n",
    "* It is based on the *hit series*\n",
    "$$\n",
    "I_{t}=\\left\\{\n",
    "\\begin{array}{cc}\n",
    "1, & \\text{if }r_{t}<-VaR_{t}^{p}, \\\\\n",
    "0, & \\text{if }r_{t}>-VaR_{t}^{p}.\n",
    "\\end{array}\n",
    "\\right.\n",
    "$$\n",
    "* If the VaR model is correctly specified, then $\\mathbb{E}[I_t]=p$ (there should be $p\\cdot T$ exceptions in a sample of size $T$, on average). This is known as the *unconditional coverage hypothesis*.\n",
    "* It can be tested by regressing $I_t-p$ on an intercept and testing that it is zero.\n",
    "* In addition, it is desirable that the exceptions not be correlated. This is the *independence hypothesis*. It can be tested by including lags of $I_t$ in the regression and testing their significance.\n",
    "* Jointly testing both (with an $F$ test) tests the *conditional coverage* hypothesis."
   ]
  },
  {
   "cell_type": "code",
   "execution_count": 24,
   "metadata": {
    "scrolled": true,
    "slideshow": {
     "slide_type": "slide"
    }
   },
   "outputs": [
    {
     "name": "stdout",
     "output_type": "stream",
     "text": [
      "                  Results: Ordinary least squares\n",
      "===================================================================\n",
      "Model:              OLS              Adj. R-squared:     0.020     \n",
      "Dependent Variable: I.subtract(0.01) AIC:                -2069.9720\n",
      "Date:               2017-10-26 19:45 BIC:                -2059.7852\n",
      "No. Observations:   1204             Log-Likelihood:     1037.0    \n",
      "Df Model:           1                F-statistic:        25.67     \n",
      "Df Residuals:       1202             Prob (F-statistic): 4.68e-07  \n",
      "R-squared:          0.021            Scale:              0.010475  \n",
      "---------------------------------------------------------------------\n",
      "              Coef.    Std.Err.      t      P>|t|     [0.025   0.975]\n",
      "---------------------------------------------------------------------\n",
      "Intercept    -0.0008     0.0030   -0.2576   0.7967   -0.0066   0.0051\n",
      "I.shift(1)    0.1446     0.0285    5.0669   0.0000    0.0886   0.2006\n",
      "-------------------------------------------------------------------\n",
      "Omnibus:            1816.402      Durbin-Watson:         2.014     \n",
      "Prob(Omnibus):      0.000         Jarque-Bera (JB):      382361.558\n",
      "Skew:               9.218         Prob(JB):              0.000     \n",
      "Kurtosis:           88.334        Condition No.:         10        \n",
      "===================================================================\n",
      "\n"
     ]
    }
   ],
   "source": [
    "import statsmodels.formula.api as smf\n",
    "y=(r<-VaR_filtered_hist)*1 #multiplication by 1 turns True/False into 1/0\n",
    "y.name='I'\n",
    "data=pd.DataFrame(y)\n",
    "model=smf.ols('I.subtract(0.01)~I.shift(1)', data=data)\n",
    "res=model.fit()\n",
    "print(res.summary2())"
   ]
  },
  {
   "cell_type": "markdown",
   "metadata": {
    "slideshow": {
     "slide_type": "slide"
    }
   },
   "source": [
    "* Conclusions:\n",
    "  * Unconditional coverage is not rejected. This is by construction; note that $r_{t}\\lessgtr-VaR_{t}^{p}\\Longleftrightarrow z_t\\lessgtr z_p$.\n",
    "  * Independence is rejected; apparently our model is dynamically mis-specified. May need to use a more general GARCH model instead of EWMA.\n",
    "* The latter finding is likely driving the rejection of the conditional coverage test:\n",
    "  "
   ]
  },
  {
   "cell_type": "code",
   "execution_count": 25,
   "metadata": {
    "slideshow": {
     "slide_type": "-"
    }
   },
   "outputs": [
    {
     "name": "stdout",
     "output_type": "stream",
     "text": [
      "<F test: F=array([[ 12.87315967]]), p=2.93962494772e-06, df_denom=1202, df_num=2>\n"
     ]
    }
   ],
   "source": [
    "print(res.f_test('Intercept=0, I.shift(1)=0'))"
   ]
  }
 ],
 "metadata": {
  "celltoolbar": "Slideshow",
  "kernelspec": {
   "display_name": "Python 2",
   "language": "python",
   "name": "python2"
  },
  "language_info": {
   "codemirror_mode": {
    "name": "ipython",
    "version": 2
   },
   "file_extension": ".py",
   "mimetype": "text/x-python",
   "name": "python",
   "nbconvert_exporter": "python",
   "pygments_lexer": "ipython2",
   "version": "2.7.14"
  },
  "livereveal": {
   "start_slideshow_at": "selected"
  }
 },
 "nbformat": 4,
 "nbformat_minor": 2
}
