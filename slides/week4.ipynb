{
 "cells": [
  {
   "cell_type": "markdown",
   "metadata": {
    "slideshow": {
     "slide_type": "slide"
    }
   },
   "source": [
    "<p style=\"text-align: center; font-size: 300%\"> Computational Finance </p>\n",
    "<img src=\"img/ABSlogo.svg\" alt=\"LOGO\" style=\"display:block; margin-left: auto; margin-right: auto; width: 50%;\">"
   ]
  },
  {
   "cell_type": "markdown",
   "metadata": {
    "slideshow": {
     "slide_type": "slide"
    }
   },
   "source": [
    "# Binomial Trees"
   ]
  },
  {
   "cell_type": "markdown",
   "metadata": {
    "slideshow": {
     "slide_type": "slide"
    }
   },
   "source": [
    "\\begin{equation*}\n",
    "\\begin{array}{ccccl}\n",
    "\\begin{array}{c}\n",
    "t=0 \\\\\n",
    "i=0%\n",
    "\\end{array}\n",
    "&  &\n",
    "\\begin{array}{c}\n",
    "t=\\delta t \\\\\n",
    "i=1%\n",
    "\\end{array}\n",
    "&  &\n",
    "\\begin{array}{c}\n",
    "t=T=2\\delta t \\\\\n",
    "i=N=2%\n",
    "\\end{array}\n",
    "\\\\\n",
    "&  &  &  &  \\\\\n",
    "&  &  &  & \\quad S_{0}uu \\\\\n",
    "&  &  & \\nearrow &  \\\\\n",
    "&  & S_{0}u &  &  \\\\\n",
    "& \\nearrow &  & \\searrow &  \\\\\n",
    "S_{0} &  &  &  & \\quad S_{0}ud=S_{0}du \\\\\n",
    "& \\searrow &  & \\nearrow &  \\\\\n",
    "&  & S_{0}d &  &  \\\\\n",
    "&  &  & \\searrow &  \\\\\n",
    "&  &  &  & \\quad S_{0}dd%\n",
    "\\end{array}%\n",
    "\\end{equation*}\n"
   ]
  },
  {
   "cell_type": "markdown",
   "metadata": {
    "slideshow": {
     "slide_type": "slide"
    }
   },
   "source": [
    "\\begin{equation*}\n",
    "\\begin{array}{ccccl}\n",
    "&  &  &  & C_{N}(uu) \\\\\n",
    "&  &  & \\nearrow &  \\\\\n",
    "&  & C_{1}(u) &  &  \\\\\n",
    "& \\nearrow &  & \\searrow &  \\\\\n",
    "C_{0} &  &  &  & C_{N}(ud)=C_{N}(du) \\\\\n",
    "& \\searrow &  & \\nearrow &  \\\\\n",
    "&  & C_{1}(d) &  &  \\\\\n",
    "&  &  & \\searrow &  \\\\\n",
    "&  &  &  & C_{N}(dd)%\n",
    "\\end{array}%\n",
    "\\end{equation*}"
   ]
  },
  {
   "cell_type": "code",
   "execution_count": 1,
   "metadata": {
    "collapsed": true,
    "slideshow": {
     "slide_type": "slide"
    }
   },
   "outputs": [],
   "source": [
    "import numpy as np\n",
    "def calltree_naive(S0, K, T, r, sigma, N):\n",
    "    \"\"\"\n",
    "    European call price based on an N-step binomial tree.\n",
    "    \"\"\"\n",
    "    deltaT = T/float(N)\n",
    "    u=np.exp(sigma * np.sqrt(deltaT))\n",
    "    d=1/u\n",
    "    p=(np.exp(r*deltaT) - d)/(u-d)\n",
    "    C=np.zeros([N+1,N+1])\n",
    "    S=np.zeros([N+1,N+1])\n",
    "    piu=np.exp(-r*deltaT)*p\n",
    "    pid=np.exp(-r*deltaT)*(1-p)\n",
    "    for i in xrange(N+1):\n",
    "        for j in xrange(i, N+1):\n",
    "            S[i,j]=S0*u**j*d**(2*i)\n",
    "    for i in xrange(N+1):\n",
    "        C[i,N]=max(0, S[i,N]-K)\n",
    "    for j in xrange(N-1,-1,-1):\n",
    "        for i in xrange(j+1):\n",
    "            C[i,j] = piu * C[i,j+1] + pid * C[i+1,j+1]\n",
    "    return  C[0,0]"
   ]
  },
  {
   "cell_type": "code",
   "execution_count": 2,
   "metadata": {
    "slideshow": {
     "slide_type": "slide"
    }
   },
   "outputs": [
    {
     "data": {
      "text/plain": [
       "6.1139619792052535"
      ]
     },
     "execution_count": 2,
     "metadata": {},
     "output_type": "execute_result"
    }
   ],
   "source": [
    "S0=50.;K=50.;T=5.0/12;r=.1;sigma=.4;N=500;\n",
    "calltree_naive(S0, K, T, r, sigma, N)"
   ]
  },
  {
   "cell_type": "code",
   "execution_count": 3,
   "metadata": {},
   "outputs": [
    {
     "name": "stdout",
     "output_type": "stream",
     "text": [
      "1 loop, best of 3: 176 ms per loop\n"
     ]
    }
   ],
   "source": [
    "%timeit calltree_naive(S0, K, T, r, sigma, N) #ipython magic for timing things"
   ]
  },
  {
   "cell_type": "code",
   "execution_count": 4,
   "metadata": {
    "collapsed": true,
    "slideshow": {
     "slide_type": "slide"
    }
   },
   "outputs": [],
   "source": [
    "def calltree_numpy(S0, K, T, r, sigma, N):\n",
    "    \"\"\"\n",
    "    European call price based on an N-step binomial tree.\n",
    "    \"\"\"\n",
    "    deltaT = T/float(N)\n",
    "    u=np.exp(sigma * np.sqrt(deltaT))\n",
    "    d=1/u\n",
    "    p=(np.exp(r*deltaT) - d)/(u-d)\n",
    "    piu=np.exp(-r*deltaT)*p\n",
    "    pid=np.exp(-r*deltaT)*(1-p)\n",
    "    C=np.zeros([N+1,N+1])\n",
    "    S=S0*u**np.arange(N+1)*d**(2*np.arange(N+1)[:, np.newaxis]) #newaxis is needed for broadcasting\n",
    "    S=np.triu(S) #keep only upper tr\n",
    "    C[:,N]=np.maximum(0, S[:,N]-K) #note maximum in place of max\n",
    "    for j in xrange(N-1,-1,-1):\n",
    "        C[:j+1,j] = piu * C[:j+1,j+1] + pid * C[1:j+2,j+1]\n",
    "    return  C[0,0]"
   ]
  },
  {
   "cell_type": "code",
   "execution_count": 8,
   "metadata": {
    "slideshow": {
     "slide_type": "-"
    }
   },
   "outputs": [
    {
     "name": "stdout",
     "output_type": "stream",
     "text": [
      "100 loops, best of 3: 4.23 ms per loop\n"
     ]
    }
   ],
   "source": [
    "#assert throws an error if False. np.allclose test if all elements of an array are almost zero\n",
    "assert np.allclose(calltree_naive(S0, K, T, r, sigma, N), calltree_numpy(S0, K, T, r, sigma, N))\n",
    "%timeit calltree_numpy(S0, K, T, r, sigma, N)"
   ]
  },
  {
   "cell_type": "code",
   "execution_count": 6,
   "metadata": {
    "collapsed": true,
    "slideshow": {
     "slide_type": "slide"
    }
   },
   "outputs": [],
   "source": [
    "from numba import jit\n",
    "calltree_numba=jit(calltree_naive)"
   ]
  },
  {
   "cell_type": "code",
   "execution_count": 7,
   "metadata": {},
   "outputs": [
    {
     "name": "stdout",
     "output_type": "stream",
     "text": [
      "100 loops, best of 3: 4.29 ms per loop\n"
     ]
    }
   ],
   "source": [
    "assert np.allclose(calltree_naive(S0, K, T, r, sigma, N), calltree_numba(S0, K, T, r, sigma, N))\n",
    "%timeit calltree_numba(S0, K, T, r, sigma, N)"
   ]
  }
 ],
 "metadata": {
  "celltoolbar": "Slideshow",
  "kernelspec": {
   "display_name": "Python 2",
   "language": "python",
   "name": "python2"
  },
  "language_info": {
   "codemirror_mode": {
    "name": "ipython",
    "version": 2
   },
   "file_extension": ".py",
   "mimetype": "text/x-python",
   "name": "python",
   "nbconvert_exporter": "python",
   "pygments_lexer": "ipython2",
   "version": "2.7.13"
  },
  "livereveal": {
   "start_slideshow_at": "selected"
  }
 },
 "nbformat": 4,
 "nbformat_minor": 2
}
