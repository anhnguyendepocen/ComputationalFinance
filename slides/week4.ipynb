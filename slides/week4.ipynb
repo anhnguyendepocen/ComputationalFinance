{
 "cells": [
  {
   "cell_type": "markdown",
   "metadata": {
    "slideshow": {
     "slide_type": "slide"
    }
   },
   "source": [
    "<p style=\"text-align: center; font-size: 300%\"> Computational Finance </p>\n",
    "<img src=\"img/ABSlogo.svg\" alt=\"LOGO\" style=\"display:block; margin-left: auto; margin-right: auto; width: 50%;\">"
   ]
  },
  {
   "cell_type": "markdown",
   "metadata": {
    "slideshow": {
     "slide_type": "slide"
    }
   },
   "source": [
    "# Binomial Trees\n",
    "\n",
    "## Setup and Notation\n",
    "* Consider a market containing three assets: a risk-free bond with price $B_t=e^{rt}$, a stock $S_t$, and a (European style) derivative $C_t$ with maturity $T$ and payoff $C_T(S_T)$ that we wish to price.\n",
    "* Split the time interval $[0,T]$ into $N$ parts of length $\\delta t=T/N$ and let $t_{i}=i\\delta t$, $i=0,\\ldots ,N$, so $t_{0}=0$ and $t_{N}=T$.\n",
    "\n",
    "* Write $\\{B_{i},S_{i},C_{i},i=0,\\ldots ,N\\}$ for asset prices at time $t_{i}=i\\delta t$. E.g., $C_{1}\\equiv C_{\\delta t}$,\n",
    "$C_{N} \\equiv C_{T}$, and $B_{i}=e^{r\\,i\\delta t}$.\n",
    "\n",
    "* The stock price $S_{i}$ either moves up to $S_{i+1}(u)$ or down to $S_{i+1}(d)$. Usually $S_{i+1}(u)=S_{i}u$ and $S_{i+1}(d)=S_{i}d$ for fixed $u$ and $d$, often $u=1/d$."
   ]
  },
  {
   "cell_type": "markdown",
   "metadata": {
    "slideshow": {
     "slide_type": "slide"
    }
   },
   "source": [
    "## The One-Period Case: $N=1$.\n",
    "\n",
    "* To find $C_0$, construct a replicating portfolio $V_{t}=\\phi\n",
    "S_{t}+\\psi B_{t}$ in such a way that\n",
    "\\begin{eqnarray*}\n",
    "V_{T}(u) &=&\\phi S_{0}u+\\psi B_{0}e^{rT}=C(S_{0}u)=:c_{u}, \\\\\n",
    "V_{T}(d) &=&\\phi S_{0}d+\\psi B_{0}e^{rT}=C(S_{0}d)=:c_{d}.\n",
    "\\end{eqnarray*}\n",
    "* Solving for $\\phi $ and $\\psi B_{0}$ yields\n",
    "\\begin{eqnarray*}\n",
    "\\phi &=&\\frac{c_{u}-c_{d}}{S_{0}u-S_{0}d},\\\\\n",
    "\\psi B_{0} &=&e^{-rT}\\left( c_{u}-\\frac{c_{u}-c_{d}}{S_{0}u-S_{0}d}\n",
    "S_{0}u\\right).\n",
    "\\end{eqnarray*}\n",
    "* $\\phi$ is known as the *hedge ratio*, or *delta* of the derivative."
   ]
  },
  {
   "cell_type": "markdown",
   "metadata": {
    "slideshow": {
     "slide_type": "slide"
    }
   },
   "source": [
    "\n",
    "* Therefore,\n",
    "\\begin{eqnarray*}\n",
    "V_{0} &=&\\phi S_{0}+\\psi B_{0} \\\\\n",
    "&=&\\frac{c_{u}-c_{d}}{u-d}+e^{-rT}\\left( c_{u}-\\frac{c_{u}-c_{d}}{u-d}%\n",
    "u\\right) \\\\\n",
    "&=&e^{-rT}\\left( c_{u}\\frac{e^{rT}-d}{u-d}+c_{d}\\frac{u-e^{rT}}{u-d}\\right)\n",
    "\\\\\n",
    "&=&e^{-rT}\\left( c_{u}p+c_{d}[1-p]\\right).\n",
    "\\end{eqnarray*}\n",
    "* In the absence of arbitrage, we must have $C_0=V_0$, and hence $$C_{0}=e^{-rT}\\left( c_{u}p+c_{d}[1-p]\\right).$$"
   ]
  },
  {
   "cell_type": "markdown",
   "metadata": {
    "slideshow": {
     "slide_type": "slide"
    }
   },
   "source": [
    "* Interpretation: $0<p<1$, so $p$ is a probability and $C_0$ an expectation.\n",
    "* $p$ and $1-p$ are known as *risk-neutral* probabilities. We collect these in the *risk-neutral probability measure* $\\mathbb{Q}$,  so that $\\mathbb{Q}[u]=1-\\mathbb{Q}[d]=p$.\n",
    "* We write $$C_0=e^{-rT}\\mathbb{E}^{\\mathbb{Q}}[C_{T}]=e^{-rT}\\left( c_{u}p+c_{d}[1-p]\\right).$$\n",
    "* The probabilities are called risk-neutral because if these were the true probabilities, all assets would earn the risk-free rate. E.g., \n",
    "$$\n",
    "\\mathbb{E}^{\\mathbb{Q}}[S_{T}]=S_0e^{rT},\n",
    "$$\n",
    "which you should verify.\n",
    "*  Note that we do *not* assume that $p=\\mathbb{P}[u]$. The actual probability \n",
    "$\\mathbb{P}[u]$ is *irrelevant* for the value $C_{0}$ of the derivative (as long as it is not zero or one)."
   ]
  },
  {
   "cell_type": "markdown",
   "metadata": {
    "slideshow": {
     "slide_type": "slide"
    }
   },
   "source": [
    "## The $N$-Period Case\n",
    "* Next, consider a two-period model ($N=2$):"
   ]
  },
  {
   "cell_type": "markdown",
   "metadata": {
    "slideshow": {
     "slide_type": "slide"
    }
   },
   "source": [
    "\\begin{equation*}\\small\n",
    "\\qquad\n",
    "\\begin{array}{ccccl}\n",
    "\\begin{array}{c}\n",
    "t=0 \\\\\n",
    "i=0%\n",
    "\\end{array}\n",
    "&  &\n",
    "\\begin{array}{c}\n",
    "t=\\delta t \\\\\n",
    "i=1%\n",
    "\\end{array}\n",
    "&  &\n",
    "\\begin{array}{c}\n",
    "t=T=2\\delta t \\\\\n",
    "i=N=2%\n",
    "\\end{array}\n",
    "\\\\\n",
    "&  &  &  &  \\\\\n",
    "&  &  &  & \\quad S_{0}uu \\\\\n",
    "&  &  & \\nearrow &  \\\\\n",
    "&  & S_{0}u &  &  \\\\\n",
    "& \\nearrow &  & \\searrow &  \\\\\n",
    "S_{0} &  &  &  & \\quad S_{0}ud=S_{0}du \\\\\n",
    "& \\searrow &  & \\nearrow &  \\\\\n",
    "&  & S_{0}d &  &  \\\\\n",
    "&  &  & \\searrow &  \\\\\n",
    "&  &  &  & \\quad S_{0}dd%\n",
    "\\end{array}%\n",
    "\\end{equation*}\n"
   ]
  },
  {
   "cell_type": "markdown",
   "metadata": {
    "slideshow": {
     "slide_type": "slide"
    }
   },
   "source": [
    "* This stock price tree is *recombinant*: an up move followed by a down move leads to the same value as a down move followed by an up move. This\n",
    "is a consequence of $u$ and $d$ being fixed and independent of the price. \n",
    "\n",
    "* Advantage: the number of nodes remains managable ($N+1$ at the $N$th step, rather than $2^N$).\n",
    "\n",
    "* This leads to a derivative price tree that is also recombinant. Given a recombinant stock price tree, this follows from the fact that $C_{N}$ only depends on $S_{N}$.\n",
    "\n",
    "* Path-dependent derivatives where $C_{N}=C(S_{i},i\\leq N)$ may lead to non-recombinant trees."
   ]
  },
  {
   "cell_type": "markdown",
   "metadata": {
    "slideshow": {
     "slide_type": "slide"
    }
   },
   "source": [
    "\\begin{equation*}\n",
    "\\begin{array}{ccccl}\n",
    "&  &  &  & C_{N}(uu) \\\\\n",
    "&  &  & \\nearrow &  \\\\\n",
    "&  & C_{1}(u) &  &  \\\\\n",
    "& \\nearrow &  & \\searrow &  \\\\\n",
    "C_{0} &  &  &  & C_{N}(ud)=C_{N}(du) \\\\\n",
    "& \\searrow &  & \\nearrow &  \\\\\n",
    "&  & C_{1}(d) &  &  \\\\\n",
    "&  &  & \\searrow &  \\\\\n",
    "&  &  &  & C_{N}(dd)%\n",
    "\\end{array}%\n",
    "\\end{equation*}"
   ]
  },
  {
   "cell_type": "markdown",
   "metadata": {
    "slideshow": {
     "slide_type": "slide"
    }
   },
   "source": [
    "* Only the payoffs $C_{N}(uu)$, $C_{N}(ud)$ and $C_{N}(dd)$ are\n",
    "known, and we wish to obtain $C_{0},C_{1}(u)$ and $C_{1}(d)$ (or more\n",
    "generally, $C_{i},i<N$).\n",
    "* At time $t=\\delta t$ (after one step), we know whether the stock has gone\n",
    "up or down.\n",
    "\n",
    "* If it has gone up, then only the branch from $C_{1}(u)$ to $C_{N}(uu)$\n",
    "or $C(ud)$ is relevant.\n",
    "* Since this is just a binary model, we can price $\n",
    "C_{1}(u)$ (and $C_{1}(d)$) by no-arbitrage:\n",
    "\\begin{eqnarray*}\n",
    "C_{1}(u) =e^{-r\\,\\delta t}\\left[ C_{N}(uu)p+C_{N}(ud)(1-p)\\right]\n",
    "=e^{-r\\,\\delta t}\\mathbb{E}^{\\mathbb{Q}}\\left[ C_{N}|S_{1}=S_{0}u\\right] , \\\\\n",
    "C_{1}(d) =e^{-r\\,\\delta t}\\left[ C_{N}(du)p+C_{N}(dd)(1-p)\\right]\n",
    "=e^{-r\\,\\delta t}\\mathbb{E}^{\\mathbb{Q}}\\left[ C_{N}|S_{1}=S_{0}d\\right] .\n",
    "\\end{eqnarray*}\n",
    "\n",
    "* Recall that $p = \\dfrac{e^{r\\,\\delta t}-d}{u-d}$; in general the\n",
    "risk-neutral probability might depend on $S_1$, but in this case it doesn't,\n",
    "because $r$, $u$ and $d$ are the same at each step."
   ]
  },
  {
   "cell_type": "markdown",
   "metadata": {
    "slideshow": {
     "slide_type": "slide"
    }
   },
   "source": [
    "* The values $C_{1}(u)$ and $C_{1}(d)$ are the market prices (under the\n",
    "no-arbitrage condition), so the derivative can be sold at this price at time\n",
    "$t=\\delta t$, depending on whether the stock goes up or down.\n",
    "* Therefore, at time $t=0$ we know that the two possible payoffs in the\n",
    "next period are $C_{1}(u)$ and $C_{1}(d)$, and so\n",
    "\\begin{eqnarray*}\n",
    "C_{0} &=&e^{-r\\,\\delta t}\\left[ C_{1}(u)p+C_{1}(d)(1-p)\\right] \\\\\n",
    "&=&e^{-rT}\\left[ C_{N}(uu)p^{2}+C_{N}(ud)[p(1-p)+(1-p)p] \\right . \\\\\n",
    "&& \\left . \\qquad \\quad +C_{N}(dd)(1-p)^{2} \\right] \\\\\n",
    "&=&e^{-rT}\\mathbb{E}^{\\mathbb{Q}}\\left[ C_{N}\\right] .\n",
    "\\end{eqnarray*}"
   ]
  },
  {
   "cell_type": "markdown",
   "metadata": {
    "slideshow": {
     "slide_type": "slide"
    }
   },
   "source": [
    "* In the $N$-period case, denote by $\\mathcal{F}_t$ the information at time $t$, i.e., whether the stock went up or down at each $s\\leq t$. Then, at each step in the tree,\n",
    "$$\n",
    "C_t=e^{-r\\delta t}\\mathbb{E}^\\mathbb{Q}[C_{t+\\delta t}|\\mathcal{F}_t].\n",
    "$$\n",
    "* Starting at  $C_T$, this can be solved backwards until one arrives at the price at $t=0$.\n",
    "* At every step in the tree, we have that\n",
    "$$\n",
    "C_t=e^{-r (T-t)}\\mathbb{E}^\\mathbb{Q}[C_T|\\mathcal{F}_t],\n",
    "$$\n",
    "and in particular\n",
    "$$\n",
    "C_0=e^{-r T}\\mathbb{E}^\\mathbb{Q}[C_T].\n",
    "$$\n",
    "* This is known as the *risk neutral pricing formula*: the price of an attainable European claim equals the expected discounted payoff, but where expectations are under a set of risk-neutral probabilities $\\mathbb{Q}$."
   ]
  },
  {
   "cell_type": "markdown",
   "metadata": {
    "slideshow": {
     "slide_type": "slide"
    }
   },
   "source": [
    "* It is worth noting that the hedging strategy is dynamic:  let\n",
    "$\\phi _{i+1}$ and $\\psi _{i+1}$ denote the number of shares and cash bonds held from $t_i$ till $t_{i+1}$.\n",
    "* The single-period binary model implies\n",
    "$$\n",
    "\\phi_{i+1} =\\dfrac{C_{i+1}(u)-C_{i+1}(d)}{S_{i+1}(u)-S_{i+1}(d)}.\n",
    "$$\n",
    "* Between $t_i$ and $t_{i+1}$, the value changes from $V_{i}$ to $\\phi _{i+1}S_{i+1}+\\psi _{i+1}B_{i+1}$, after which rebalancing occurs.\n",
    "\n",
    "* The strategy is *replicating*: after\n",
    "$N$ steps, the value is $V_{N}=\\phi _{N}S_{N}+\\psi _{N}B_{N}=C_{N}$.\n",
    "\n",
    "* It can also be verified to be *self-financing*:\n",
    "\\begin{equation*}\n",
    "V_{i}=\\phi _{i}S_{i}+\\psi _{i}B_{i}=\\phi _{i+1}S_{i}+\\psi _{i+1}B_{i},\n",
    "\\end{equation*}\n",
    "which may be rewritten as\n",
    "\\begin{equation*}\n",
    "V_{i+1}-V_{i}=\\phi _{i+1}(S_{i+1}-S_{i})+\\psi _{i+1}(B_{i+1}-B_{i}).\n",
    "\\end{equation*}\n",
    "\n",
    "* Thus, a dynamic strategy allows us to hedge against more than two states at time $T$ with only two assets."
   ]
  },
  {
   "cell_type": "markdown",
   "metadata": {
    "slideshow": {
     "slide_type": "slide"
    }
   },
   "source": [
    "## Martingales and the FTAP\n",
    "* A sequence of random variables such as $\\{S_i\\}_{i\\geq 0}$ is called a *stochastic process*.\n",
    "* Observe that under $\\mathbb{Q}$,\n",
    "$$\n",
    "\\mathbb{E}^\\mathbb{Q}\\left[ S_{i+1}|\\mathcal{F}_i\\right]=S_{i}\\big(up+d(1-p)\\big)=S_{i}e^{r\\delta t}.\n",
    "$$\n",
    "* Define the *discounted stock price process* $\\tilde{S}_{i}=S_{i}e^{-i r\\delta t}$. Then\n",
    "$$\n",
    "\\mathbb{E}^\\mathbb{Q}\\left[ \\tilde{S}_{i+1}|\\mathcal{F}_i\\right]=S_{i}e^{r\\delta t}e^{-(i+1) r\\delta t}=S_{i}e^{-i r\\delta t}=\\tilde{S}_{i}.\n",
    "$$\n",
    "This is the defining property of a *martingale*. Hence, the risk-neutral measure is also called a *martingale measure*. \n",
    "* $\\mathbb{Q}$ and $\\mathbb{P}$ are *equivalent* if $\\mathbb{Q}[A]=0\\Longleftrightarrow\\mathbb{P}[A]=0$.\n",
    "* *Fundamental Theorem of Asset Pricing*: if (and only if) the market is arbitrage free, then there exists an equivalent martingale measure $\\mathbb{Q}$ under which discounted stock prices are martingales, and the risk neutral pricing formula holds.  $\\mathbb{Q}$ is unique if the market is complete."
   ]
  },
  {
   "cell_type": "markdown",
   "metadata": {
    "slideshow": {
     "slide_type": "slide"
    }
   },
   "source": [
    "## Tree Calibration\n",
    "\n",
    "* We are given $S_{0}$, $T$ (measured in years), and the function $C_{T}=C(S_{T})$; for a European call, $C(S_{T})=\\max \\left\\{(S_{T}-K),0\\right\\}$.\n",
    "\n",
    "* We have to choose the number $N$ of steps, and hence $\\delta t=T/N$.\n",
    "This involves a trade-off between computational burden and accuracy.\n",
    "\n",
    "* $r=\\log (1+R)$, where $R$ is the current value (per annum) of a\n",
    "suitable risk-free interest rate (e.g. LIBOR) over the holding period of\n",
    "the option.\n",
    "\n",
    "* $u$ and $d$ are chosen to match the stock price volatility: under $\\mathbb{Q}$,\n",
    "\n",
    "$$\n",
    "R_{i+1}\\equiv \\log (S_{i+1}/S_{i}) =\\left\\{\\begin{array}{2} \\log u&\\mbox{with probability }p,\\\\ \\log d=-\\log u&\\mbox{with probability }1-p.\\end{array}\\right.\n",
    "$$\n"
   ]
  },
  {
   "cell_type": "markdown",
   "metadata": {
    "slideshow": {
     "slide_type": "slide"
    }
   },
   "source": [
    "* Thus, \n",
    "\\begin{align*}\n",
    "\\mathbb{E}^{\\mathbb{Q}}[R_{i+1}]&=2p-1\\quad\\mbox{and}\\\\\n",
    "\\sigma ^{2}\\delta t:=\\mathrm{var}^{\\mathbb{Q}}(R_{i+1})&=(\\log u)^{2}\n",
    "\\left[ 1-(2p-1)^{2}\\right] \\approx (\\log u)^{2}.\n",
    "\\end{align*}\n",
    "* Hence we choose\n",
    "$$\n",
    "u=e^{\\sigma \\sqrt{\\delta t}},\\qquad d=1/u=e^{-\\sigma \\sqrt{\\delta t}}.\n",
    "$$\n",
    "* Possible estimates for $\\sigma$:\n",
    "  * Annualized historical volatility (see last week):\n",
    "$$\n",
    "\\sigma=\\sqrt{252}\\sigma_{t, HIST}\n",
    "$$\n",
    "\n",
    "  * Implied volatility: the value of $\\sigma$ that equates model price and market price (see later).\n"
   ]
  },
  {
   "cell_type": "markdown",
   "metadata": {
    "slideshow": {
     "slide_type": "slide"
    }
   },
   "source": [
    "## Binomial Trees in Python\n",
    "* We will look at several Python implementations and compare their speed.\n",
    "* The first implementation is a \"loopy\" version that could be written in a similar way in most imperative programming languages."
   ]
  },
  {
   "cell_type": "code",
   "execution_count": 1,
   "metadata": {
    "collapsed": true,
    "slideshow": {
     "slide_type": "slide"
    }
   },
   "outputs": [],
   "source": [
    "import numpy as np\n",
    "def calltree(S0, K, T, r, sigma, N):\n",
    "    \"\"\"\n",
    "    European call price based on an N-step binomial tree.\n",
    "    \"\"\"\n",
    "    deltaT = T/float(N)\n",
    "    u=np.exp(sigma * np.sqrt(deltaT))\n",
    "    d=1/u\n",
    "    p=(np.exp(r*deltaT) - d)/(u-d)\n",
    "    C=np.zeros([N+1,N+1])\n",
    "    S=np.zeros([N+1,N+1])\n",
    "    piu=np.exp(-r*deltaT)*p\n",
    "    pid=np.exp(-r*deltaT)*(1-p)\n",
    "    for i in xrange(N+1):\n",
    "        for j in xrange(i, N+1):\n",
    "            S[i,j]=S0*u**j*d**(2*i)\n",
    "    for i in xrange(N+1):\n",
    "        C[i,N]=max(0, S[i,N]-K)\n",
    "    for j in xrange(N-1,-1,-1):\n",
    "        for i in xrange(j+1):\n",
    "            C[i,j] = piu * C[i,j+1] + pid * C[i+1,j+1]\n",
    "    return  C[0,0]"
   ]
  },
  {
   "cell_type": "markdown",
   "metadata": {
    "slideshow": {
     "slide_type": "slide"
    }
   },
   "source": [
    "* Let's see if it works:"
   ]
  },
  {
   "cell_type": "code",
   "execution_count": 2,
   "metadata": {
    "slideshow": {
     "slide_type": "-"
    }
   },
   "outputs": [
    {
     "data": {
      "text/plain": [
       "6.1139619792052535"
      ]
     },
     "execution_count": 2,
     "metadata": {},
     "output_type": "execute_result"
    }
   ],
   "source": [
    "S0=50.;K=50.;T=5.0/12;r=.1;sigma=.4;N=500;\n",
    "calltree(S0, K, T, r, sigma, N)"
   ]
  },
  {
   "cell_type": "markdown",
   "metadata": {},
   "source": [
    "* Great. Now let's look at the speed:"
   ]
  },
  {
   "cell_type": "code",
   "execution_count": 3,
   "metadata": {},
   "outputs": [
    {
     "name": "stdout",
     "output_type": "stream",
     "text": [
      "1 loop, best of 3: 182 ms per loop\n"
     ]
    }
   ],
   "source": [
    "%timeit calltree(S0, K, T, r, sigma, N) #ipython magic for timing things"
   ]
  },
  {
   "cell_type": "markdown",
   "metadata": {},
   "source": [
    "* Loops tend to be slow in Python. It is often preferable to write code in a *vectorized* style.\n",
    "* This means calling NumPy `ufuncs` on entire vectors of data, so that the looping happens inside NumPy, i.e., in compiled C code (which means it's fast)."
   ]
  },
  {
   "cell_type": "code",
   "execution_count": 4,
   "metadata": {
    "collapsed": true,
    "slideshow": {
     "slide_type": "slide"
    }
   },
   "outputs": [],
   "source": [
    "def calltree_numpy(S0, K, T, r, sigma, N):\n",
    "    \"\"\"\n",
    "    European call price based on an N-step binomial tree.\n",
    "    \"\"\"\n",
    "    deltaT = T/float(N)\n",
    "    u=np.exp(sigma * np.sqrt(deltaT))\n",
    "    d=1/u\n",
    "    p=(np.exp(r*deltaT) - d)/(u-d)\n",
    "    piu=np.exp(-r*deltaT)*p\n",
    "    pid=np.exp(-r*deltaT)*(1-p)\n",
    "    C=np.zeros([N+1,N+1])\n",
    "    S=S0*u**np.arange(N+1)*d**(2*np.arange(N+1)[:, np.newaxis])\n",
    "    S=np.triu(S) #keep only upper trinagular part\n",
    "    C[:,N]=np.maximum(0, S[:,N]-K) #note maximum in place of max\n",
    "    for j in xrange(N-1,-1,-1):\n",
    "        C[:j+1,j] = piu * C[:j+1,j+1] + pid * C[1:j+2,j+1]\n",
    "    return  C[0,0]"
   ]
  },
  {
   "cell_type": "markdown",
   "metadata": {
    "slideshow": {
     "slide_type": "slide"
    }
   },
   "source": [
    "* Let's verify that both implementations give the same answer.\n",
    "* We'll use NumPy's `allclose` function, which tests if all elements of an array are close to zero."
   ]
  },
  {
   "cell_type": "code",
   "execution_count": 5,
   "metadata": {},
   "outputs": [
    {
     "data": {
      "text/plain": [
       "True"
      ]
     },
     "execution_count": 5,
     "metadata": {},
     "output_type": "execute_result"
    }
   ],
   "source": [
    "np.allclose(calltree(S0, K, T, r, sigma, N), calltree_numpy(S0, K, T, r, sigma, N))"
   ]
  },
  {
   "cell_type": "markdown",
   "metadata": {},
   "source": [
    "* Now let's time it:"
   ]
  },
  {
   "cell_type": "code",
   "execution_count": 6,
   "metadata": {
    "slideshow": {
     "slide_type": "-"
    }
   },
   "outputs": [
    {
     "name": "stdout",
     "output_type": "stream",
     "text": [
      "100 loops, best of 3: 4.14 ms per loop\n"
     ]
    }
   ],
   "source": [
    "%timeit calltree_numpy(S0, K, T, r, sigma, N)"
   ]
  },
  {
   "cell_type": "markdown",
   "metadata": {
    "slideshow": {
     "slide_type": "slide"
    }
   },
   "source": [
    "* A third option is to use Numba ([user guide](http://numba.pydata.org/numba-doc/latest/index.html)).\n",
    "* Numba implements a *just in time compiler*. It can compile certain (array-heavy) code to native machine code.\n",
    "* If Numba is able to compile your code, then the speed is often comparable to C.\n",
    "* All we need to do is import the package, and then add a *decorator* to our function.\n",
    "* Other than that, the code is exactly the same as our first attempt."
   ]
  },
  {
   "cell_type": "code",
   "execution_count": 7,
   "metadata": {
    "collapsed": true,
    "slideshow": {
     "slide_type": "slide"
    }
   },
   "outputs": [],
   "source": [
    "from numba import jit\n",
    "@jit\n",
    "def calltree_numba(S0, K, T, r, sigma, N):\n",
    "    \"\"\"\n",
    "    European call price based on an N-step binomial tree.\n",
    "    \"\"\"\n",
    "    deltaT = T/float(N)\n",
    "    u=np.exp(sigma * np.sqrt(deltaT))\n",
    "    d=1/u\n",
    "    p=(np.exp(r*deltaT) - d)/(u-d)\n",
    "    C=np.zeros([N+1,N+1])\n",
    "    S=np.zeros([N+1,N+1])\n",
    "    piu=np.exp(-r*deltaT)*p\n",
    "    pid=np.exp(-r*deltaT)*(1-p)\n",
    "    for i in xrange(N+1):\n",
    "        for j in xrange(i, N+1):\n",
    "            S[i,j]=S0*u**j*d**(2*i)\n",
    "    for i in xrange(N+1):\n",
    "        C[i,N]=max(0, S[i,N]-K)\n",
    "    for j in xrange(N-1,-1,-1):\n",
    "        for i in xrange(j+1):\n",
    "            C[i,j] = piu * C[i,j+1] + pid * C[i+1,j+1]\n",
    "    return  C[0,0]"
   ]
  },
  {
   "cell_type": "markdown",
   "metadata": {
    "slideshow": {
     "slide_type": "slide"
    }
   },
   "source": [
    "* Check that it gives the right answer:"
   ]
  },
  {
   "cell_type": "code",
   "execution_count": 8,
   "metadata": {},
   "outputs": [
    {
     "data": {
      "text/plain": [
       "True"
      ]
     },
     "execution_count": 8,
     "metadata": {},
     "output_type": "execute_result"
    }
   ],
   "source": [
    "np.allclose(calltree(S0, K, T, r, sigma, N), calltree_numba(S0, K, T, r, sigma, N))"
   ]
  },
  {
   "cell_type": "markdown",
   "metadata": {
    "slideshow": {
     "slide_type": "-"
    }
   },
   "source": [
    "* The moment of truth:"
   ]
  },
  {
   "cell_type": "code",
   "execution_count": 9,
   "metadata": {
    "slideshow": {
     "slide_type": "-"
    }
   },
   "outputs": [
    {
     "name": "stdout",
     "output_type": "stream",
     "text": [
      "100 loops, best of 3: 4.35 ms per loop\n"
     ]
    }
   ],
   "source": [
    "%timeit calltree_numba(S0, K, T, r, sigma, N)"
   ]
  },
  {
   "cell_type": "markdown",
   "metadata": {
    "slideshow": {
     "slide_type": "slide"
    }
   },
   "source": [
    "* Not bad at all. We essentially match our NumPy implementation.\n",
    "* There's one more thing we might try: what if we JIT-compile the vectorized version?\n",
    "* Instead of writing out the whole function again, we'll use an alternative way to invoke the JIT compiler:"
   ]
  },
  {
   "cell_type": "code",
   "execution_count": 10,
   "metadata": {},
   "outputs": [
    {
     "data": {
      "text/plain": [
       "True"
      ]
     },
     "execution_count": 10,
     "metadata": {},
     "output_type": "execute_result"
    }
   ],
   "source": [
    "calltree_numpy_numba=jit(calltree_numpy)\n",
    "np.allclose(calltree(S0, K, T, r, sigma, N), calltree_numpy_numba(S0, K, T, r, sigma, N))"
   ]
  },
  {
   "cell_type": "code",
   "execution_count": 11,
   "metadata": {},
   "outputs": [
    {
     "name": "stdout",
     "output_type": "stream",
     "text": [
      "1000 loops, best of 3: 1.1 ms per loop\n"
     ]
    }
   ],
   "source": [
    "%timeit calltree_numpy_numba(S0, K, T, r, sigma, N)"
   ]
  },
  {
   "cell_type": "markdown",
   "metadata": {},
   "source": [
    "* Wow. That's three times as fast as the pure NumPy version, and 150 times as fast as our naive implementation.\n",
    "* Looking at the absolute timings, the improvements may seem small, but keep in mind that you may need to call these functions many many times.\n",
    "* Other tools for compiling Python to native code include [Cython](http://cython.org/) and [Pythran](https://pythonhosted.org/pythran/)."
   ]
  },
  {
   "cell_type": "markdown",
   "metadata": {
    "slideshow": {
     "slide_type": "slide"
    }
   },
   "source": [
    "## A Closed Form for European Options\n",
    "* The price of a European option\n",
    "$$\n",
    "C_0=e^{-rT}\\mathbb{E}^\\mathbb{Q}\\left[\\max(S_T-K),0\\right].\n",
    "$$\n",
    "depends only on $S_T$, so there is no need to use a tree explicitly to evaluate it.\n",
    "* Let $k$ denote the number of up moves of the stock , so that $N-k$ is the number of down moves. Then\n",
    "$$\n",
    "S_T=S_0u^kd^{N-k}=S_0u^{2k-N},\n",
    "$$\n",
    "where under $\\mathbb{Q}$, $k\\sim\\mathrm{Bin}(N,p)$, with pmf $f(k;N,p)={N\\choose k} p^k (1-p)^{N-k}$. Thus\n",
    "$$\n",
    "C_0=e^{-rT}\\sum_{k=0}^N f(k;N,p) \\max(S_0u^kd^{N-k}-K,0).\n",
    "$$"
   ]
  },
  {
   "cell_type": "markdown",
   "metadata": {
    "slideshow": {
     "slide_type": "slide"
    }
   },
   "source": [
    "*  Let $a$ denote the minimum number of up moves so that $S_T>K$, i.e., the smallest integer greater than $N/2+\\log(K/S_0)/(2\\log u)$. Then\n",
    "$$\n",
    "C_0=e^{-rT}\\sum_{k=a}^N f(k;N,p) \\left[S_0u^kd^{N-k}-K\\right].\n",
    "$$\n",
    "* The second term is $[1-F(a-1;N,p)]e^{-rT}K=\\bar F(a-1;N,p)e^{-rT}K$, where $F$ is the binomial cdf and $\\bar F$ is the survivor function.\n",
    "* Let $p_\\ast=e^{-r\\delta t} p u $. The first term is\n",
    "$$\n",
    "e^{-rT}S_0\\sum_{k=a}^N  {N\\choose k} p^k (1-p)^{N-k} u^kd^{N-k}=S_0\\sum_{k=a}^N  {N\\choose k} p_\\ast^k (1-p_\\ast)^{N-k}.\n",
    "$$"
   ]
  },
  {
   "cell_type": "markdown",
   "metadata": {
    "slideshow": {
     "slide_type": "slide"
    }
   },
   "source": [
    "* Putting things together,\n",
    "\n",
    "\\begin{align*}\n",
    "C_0&=S_0\\bar F(a-1;N,p_\\ast) -\\bar F(a-1;N,p)e^{-rT}K\\\\\n",
    "&=S_0\\mathbb{Q}^{\\ast}(S_T>K) -\\mathbb{Q}(S_T>K)e^{-rT}K\n",
    "\\end{align*}\n",
    "* You will be implementing this in a homework exercise."
   ]
  },
  {
   "cell_type": "markdown",
   "metadata": {
    "slideshow": {
     "slide_type": "slide"
    }
   },
   "source": [
    "## The Black-Scholes Formula as Continuous Time Limit\n",
    "* Let's consider what happens if we let $N\\rightarrow\\infty$.\n",
    "* First, a first-order Taylor expansion, together with l'Hopital's rule, can be used to show that, for small $\\delta t$,\n",
    "$$\n",
    "p\\approx \\frac{1}{2}\\left( 1+\\sqrt{\\delta t}\\frac{r-\\frac{1}{2}\\sigma ^{2}}{\\sigma }\\right).\n",
    "$$\n",
    "* Similarly,\n",
    "$$\n",
    "p^{\\ast }\\approx \\frac{1}{2}\\left( 1+\\sqrt{\\delta t}\\frac{r+\\frac{1}{2}%\n",
    "\\sigma ^{2}}{\\sigma }\\right) .\n",
    "$$"
   ]
  },
  {
   "cell_type": "markdown",
   "metadata": {
    "slideshow": {
     "slide_type": "slide"
    }
   },
   "source": [
    "* Next, Let $X_T\\equiv \\log {S_{T}}$. Then\n",
    "\n",
    "$$\n",
    "X_T=\\log S_0 +\\sum_{i=1}^N R_i=\\log S_0 +\\sigma \\sqrt{\\delta t}(2k-N),\n",
    "$$\n",
    "\n",
    "because $R_i$ is either $\\log u$ or $\\log d=-\\log u$.\n",
    "* As $k\\sim\\mathrm{Bin}(N,p)$, we have $\\mathbb{E}^\\mathbb{Q}[k]=Np$, $\\mathrm{Var}^\\mathbb{Q}[k]=Np(1-p)$, and\n",
    "\n",
    "\\begin{align*}\n",
    "\\mathbb{E}^\\mathbb{Q}[X_T]&=\\log S_0 + \\sigma\\sqrt{\\delta t} N (2p-1)\\rightarrow \\log S_0+(r-\\frac{1}{2}\\sigma^2)T\\\\\n",
    "\\mathrm{Var}^\\mathbb{Q}[X_T]&=\\sigma^2\\delta t4N p(1-p)\\rightarrow \\sigma^2 T.\n",
    "\\end{align*}\n",
    "\n",
    "* Finally, as $N\\rightarrow \\infty$, the distribution of $X_T$ tends to a normal. This follows from the *central limit theorem* and the fact that $X_T$ is the sum of $N$ i.i.d. terms."
   ]
  },
  {
   "cell_type": "markdown",
   "metadata": {
    "slideshow": {
     "slide_type": "slide"
    }
   },
   "source": [
    "* Thus, as $N\\rightarrow\\infty$,\n",
    "\n",
    "\\begin{align*}\n",
    "\\mathbb{Q}(S_T>K)&=\\mathbb{Q}(X_T>\\log K)=\\mathbb{Q}\\left(\\frac{X_T-\\mathbb{E}^\\mathbb{Q}[X_T]}{\\sqrt{\\mathrm{Var}^\\mathbb{Q}[X_T]}}>\\frac{\\log K-\\mathbb{E}^\\mathbb{Q}[X_T]}{\\sqrt{\\mathrm{Var}^\\mathbb{Q}[X_T]}}\\right)\\\\\n",
    "&=1-\\Phi\\left(\\frac{\\log K-\\mathbb{E}^\\mathbb{Q}[X_T]}{\\sqrt{\\mathrm{Var}^\\mathbb{Q}[X_T]}}\\right)=:1-\\Phi(-d_2)=\\Phi(d_2),\n",
    "\\end{align*}\n",
    "\n",
    "where $\\Phi$ is the standard normal cdf and\n",
    "$$\n",
    "d_2\\equiv \\frac{\\mathbb{E}^\\mathbb{Q}[X_T]-\\log K}{\\sqrt{\\mathrm{Var}^\\mathbb{Q}[X_T]}}=\\frac{\\log (S_0/K)+(r-\\frac{1}{2}\\sigma^2)T}{\\sigma \\sqrt{T}}.\n",
    "$$ \n"
   ]
  },
  {
   "cell_type": "markdown",
   "metadata": {
    "slideshow": {
     "slide_type": "slide"
    }
   },
   "source": [
    "* The same argument can be used to show that as $N\\rightarrow\\infty$,\n",
    "$$\n",
    "\\mathbb{Q}^\\ast(S_T>K)=\\Phi(d_1),\n",
    "$$\n",
    "where\n",
    "$$\n",
    "d_{1}\\equiv d_{2}+\\sigma \\sqrt{T}=\\frac{\\log (S_{0}/K)+(r+\\tfrac{1}{2}\\sigma ^{2})T%\n",
    "}{\\sigma \\sqrt{T}}.\n",
    "$$\n",
    "\n",
    "* In summary, we have derived the *Black-Scholes formula*\n",
    "\n",
    "\\begin{align*}\n",
    "C_{0}&=S_{0}\\Phi (d_{1})-e^{-rT}K\\Phi (d_{2})\\\\\n",
    "&=:BS(S_{0},K,T,r,\\sigma ).\n",
    "\\end{align*}"
   ]
  },
  {
   "cell_type": "markdown",
   "metadata": {},
   "source": [
    "* Implementation in Python:"
   ]
  },
  {
   "cell_type": "code",
   "execution_count": 12,
   "metadata": {
    "collapsed": true,
    "slideshow": {
     "slide_type": "slide"
    }
   },
   "outputs": [],
   "source": [
    "from scipy.stats import norm\n",
    "def blackscholes(S0, K, T, r, sigma):\n",
    "    \"\"\"\n",
    "    Price of a European call in the Black-Scholes model.\n",
    "    \"\"\"\n",
    "    d1=(np.log(S0)-np.log(K)+(r+sigma**2/2)*T)/(sigma*np.sqrt(T))\n",
    "    d2=d1-sigma*np.sqrt(T)\n",
    "    return S0*norm.cdf(d1)-np.exp(-r*T)*K*norm.cdf(d2)"
   ]
  },
  {
   "cell_type": "code",
   "execution_count": 13,
   "metadata": {},
   "outputs": [
    {
     "data": {
      "text/plain": [
       "(6.1139619792052535, 6.116508129330871)"
      ]
     },
     "execution_count": 13,
     "metadata": {},
     "output_type": "execute_result"
    }
   ],
   "source": [
    "calltree(S0, K, T, r, sigma, 500), blackscholes(S0, K, T, r, sigma)"
   ]
  },
  {
   "cell_type": "markdown",
   "metadata": {},
   "source": [
    "* Note that as written, the function can operate on arrays of strikes:"
   ]
  },
  {
   "cell_type": "code",
   "execution_count": 14,
   "metadata": {},
   "outputs": [
    {
     "data": {
      "text/plain": [
       "array([ 26.0260491 ,   9.77944137,   2.00056039,   0.27962697,   0.0331146 ])"
      ]
     },
     "execution_count": 14,
     "metadata": {},
     "output_type": "execute_result"
    }
   ],
   "source": [
    "Ks=np.linspace(K/2., 2.*K, 5)\n",
    "blackscholes(S0, Ks, T, r, sigma)"
   ]
  },
  {
   "cell_type": "markdown",
   "metadata": {
    "slideshow": {
     "slide_type": "slide"
    }
   },
   "source": [
    "## American Options\n",
    "* Unlike a European call, an American call with price $C_t^{Am}$ can be exercised at any time before it matures. When exercised at $t\\leq T$, it pays $\\max(S_t-K,0)$. Hence the call will be exercised early if at time $t$, $S_t-K>C_t^{Am}$.\n",
    "* Recall that the price of a European call is at least as large as its *intrinsic value*: $C_t\\geq \\max(S_t-K,0)$.\n",
    "* As $C_t^{Am}\\geq C_t$, an American call is therefore never exercised early (in the absence of dividends).\n",
    "* There is no closed-form expression for the price of an American put option, so numerical methods are needed. Binomial trees are a popular choice.\n"
   ]
  },
  {
   "cell_type": "markdown",
   "metadata": {
    "slideshow": {
     "slide_type": "slide"
    }
   },
   "source": [
    "* This works as follows:\n",
    "  * At step $N$, the price of the put is $P^{Am}_N=\\max(K-S_N,0)$, just like for a European put.\n",
    "  * At step $N-1$, the *continuation value* of the option is $e^{-r\\delta t}\\mathbb{E}^{\\mathbb{Q}}[P^{Am}_N]$. Early exercise yields $K-S_{N-1}$,\n",
    "so\n",
    "$$\n",
    "P^{Am}_{N-1}=\\max(e^{-r\\delta t}\\mathbb{E}^{\\mathbb{Q}}[P^{Am}_N|\\mathcal{F}_{N-1}],K-S_{N-1}).\n",
    "$$\n",
    "  * This is iterated backwards until $P^{Am}_{0}$.\n",
    "* The implementation is part of the homework exercise."
   ]
  },
  {
   "cell_type": "markdown",
   "metadata": {
    "slideshow": {
     "slide_type": "slide"
    }
   },
   "source": [
    "## Implied Volatility\n",
    "* The *implied volatility* (IV, $\\sigma _{I}$) of an option is that value of $\\sigma $ which equates the BS model price to the observed market price $C_{0}^{obs}$, i.e., it solves\n",
    "\n",
    "$$\n",
    "C_{0}^{obs}=BS(S_{0},K,T,r,\\sigma_I).\n",
    "$$\n",
    "\n",
    "* If the BS assumptions were correct, then any option traded on the asset should have the same IV, which should in turn equal historical volatility.\n",
    "\n",
    "* In practice, options with different strikes $K$ and hence *moneyness* $K/S_{0}$ have different IVs: *volatility smile* or *smirk/skew*. Also, options with different times to maturity have different IVs: *volatility term structure*.\n",
    "\n",
    "* These phenomena are evidence of a failure of the assumptions of the Black-Scholes model, most importantly that of a constant volatility $\\sigma$."
   ]
  },
  {
   "cell_type": "markdown",
   "metadata": {
    "slideshow": {
     "slide_type": "slide"
    }
   },
   "source": [
    "* In practice, the BS formula is used as follows: the implied volatility is computed for options that are already traded in the market, for different strikes and maturities. This leads to the *IV surface*.\n",
    "\n",
    "* When a new option is issued, the implied volatility corresponding to its strike and time to maturity is determined by interpolation on the surface. The BS formula then gives the corresponding price.\n",
    "\n",
    "* Mathematically, the IV is the *root* (or *zero*) of the function \n",
    "\n",
    "$$\n",
    "f(\\sigma_I)=BS(S_{0},K,T,r,\\sigma_I)-C_{0}^{obs}.\n",
    "$$\n",
    "\n",
    "* In Python, root finding can be done via SciPy's `brentq` function. In its simplest form, it takes 3 arguments: the unary function $f(\\cdot)$, a lower bound $L$, and an upper bound $U$, such that $[L, U]$ contains exactly one root of $f$."
   ]
  },
  {
   "cell_type": "markdown",
   "metadata": {
    "slideshow": {
     "slide_type": "slide"
    }
   },
   "source": [
    "* [Tehranchi (2016)](https://arxiv.org/abs/1512.06812) shows that \n",
    "\n",
    "$$\n",
    "-\\Phi^{-1}\\left(\\frac{S_0-C^{obs}_0}{2\\min(S_0, e^{-rT}K)}\\right)\\leq \\frac{\\sqrt{T}}{2}\\sigma_I \\leq\n",
    "-\\Phi^{-1}\\left(\\frac{S_0-C^{obs}_0}{S_0+e^{-rT}K)}\\right)\n",
    "$$\n",
    "\n",
    "* It remains to transform our objective function into a unary function (function of a single argument), via a process known as *partial function application*. Anonymous functions are a convenient way of achieving this."
   ]
  },
  {
   "cell_type": "code",
   "execution_count": 15,
   "metadata": {
    "collapsed": true,
    "scrolled": true
   },
   "outputs": [],
   "source": [
    "from scipy.optimize import brentq\n",
    "def impvol(S0, K, T, r, C_obs):\n",
    "    L=-2*norm.ppf((S0-C_obs)/(2.0*min(S0, np.exp(-r*T)*K)))/np.sqrt(T)\n",
    "    U=-2*norm.ppf((S0-C_obs)/(S0+np.exp(-r*T)*K))/np.sqrt(T)\n",
    "    f=lambda s: blackscholes(S0, K, T, r, s)-C_obs #partial application: f(s)=BS(S0, K, T, r, s)-C_obs\n",
    "    return brentq(f, L, U)"
   ]
  },
  {
   "cell_type": "code",
   "execution_count": 16,
   "metadata": {},
   "outputs": [
    {
     "data": {
      "text/plain": [
       "(0.39056035816043205, 6.0)"
      ]
     },
     "execution_count": 16,
     "metadata": {},
     "output_type": "execute_result"
    }
   ],
   "source": [
    "C_obs=6.0 #for illustration\n",
    "IV=impvol(S0, K, T, r, C_obs); (IV, blackscholes(S0, K, T, r, IV))"
   ]
  }
 ],
 "metadata": {
  "celltoolbar": "Slideshow",
  "kernelspec": {
   "display_name": "Python 2",
   "language": "python",
   "name": "python2"
  },
  "language_info": {
   "codemirror_mode": {
    "name": "ipython",
    "version": 2
   },
   "file_extension": ".py",
   "mimetype": "text/x-python",
   "name": "python",
   "nbconvert_exporter": "python",
   "pygments_lexer": "ipython2",
   "version": "2.7.13"
  },
  "livereveal": {
   "start_slideshow_at": "selected"
  }
 },
 "nbformat": 4,
 "nbformat_minor": 2
}
