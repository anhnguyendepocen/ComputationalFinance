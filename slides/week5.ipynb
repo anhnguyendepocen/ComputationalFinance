{
 "cells": [
  {
   "cell_type": "markdown",
   "metadata": {
    "slideshow": {
     "slide_type": "slide"
    }
   },
   "source": [
    "<p style=\"text-align: center; font-size: 300%\"> Computational Finance </p>\n",
    "<img src=\"img/ABSlogo.svg\" alt=\"LOGO\" style=\"display:block; margin-left: auto; margin-right: auto; width: 50%;\">"
   ]
  },
  {
   "cell_type": "markdown",
   "metadata": {
    "slideshow": {
     "slide_type": "slide"
    }
   },
   "source": [
    "# Monte Carlo Methods\n",
    "## Brownian Motion\n",
    "* We saw last week that the binomial tree implies for $X_t\\equiv \\log S_t$ that\n",
    "$$\n",
    "X_{i\\delta t}=X_{(i-1)\\delta t}+R_i \\Longleftrightarrow\n",
    "\\Delta X_i = R_i,\\tag{$\\dagger$}\n",
    "$$\n",
    "  where $R_i=\\log u$ or $R_i=\\log d$, with probabilities $\\mathbb{Q}[u]$ and $\\mathbb{Q}[d]$. \n",
    "* Equation ($\\dagger$) is a *stochastic difference equation*.\n",
    "* Its *solution* \n",
    "$$\n",
    "X_T=\\log S_0 +\\sum_{i=1}^N R_i=\\log S_0 +\\sigma \\sqrt{\\delta t}(2k-N)\n",
    "$$\n",
    "is called a *binomial process*, or in the special case with\n",
    "$\\mathbb{E}[R_i]=0$, a *random walk*.\n"
   ]
  },
  {
   "cell_type": "markdown",
   "metadata": {
    "slideshow": {
     "slide_type": "slide"
    }
   },
   "source": [
    "* We also saw that if we let $N\\rightarrow\\infty$ (so that $\\delta t \\rightarrow 0$),\n",
    "$$\n",
    "X_T-X_0\\stackrel{d}{\\rightarrow}N(\\mu T,\\sigma^2 T),\\quad \\mu\\equiv r-\\frac{1}{2}\\sigma^2.\n",
    "$$\n",
    "* The argument can be repeated for every $X_t, t\\leq T$, showing that\n",
    "$$\n",
    "X_t-X_0\\stackrel{d}{\\rightarrow}N(\\mu t,\\sigma^2 t),\n",
    "$$\n",
    "and that for any $0<t<T$, $X_t-X_0$ and $X_T-X_t$ are independent.\n",
    "* As $\\delta t\\rightarrow 0$, $\\{X_t\\}_{t\\geq 0}$ becomes a continuous time process: the indexing set is now given by the entire positive real line.\n",
    "* This continuous time limit (with $\\mu=0$ and $\\sigma^2=1$) is called *Brownian motion*, or *Wiener process*.\n",
    "* From now on, rather than modelling in discrete time and then letting $\\delta t \\rightarrow 0$, we will directly model in continuous time, using Brownian motion as a building block."
   ]
  },
  {
   "cell_type": "markdown",
   "metadata": {
    "slideshow": {
     "slide_type": "slide"
    }
   },
   "source": [
    "\n",
    "* Definition of (standard) *Brownian Motion*:\n",
    "Stochastic process $\\{W_{t}\\}_{t\\geq 0}$ satisfying\n",
    "  * $W_{0}=0$;\n",
    "  * The increments $W_{t} - W_s$ are independent for all $0 \\le s < t$;\n",
    "  * $W_{t} - W_s \\sim N(0,t-s)$ for all $0 \\le s \\le t$;\n",
    "  * Continuous sample paths.\n",
    "\n",
    "* This is standard Brownian motion, whereas $X_{t}=\\sigma W_{t}$ is Brownian motion with variance $\\sigma ^{2}$.\n",
    "* Restriction that process start at zero may be loosened by considering $X_{t}=X_{0}+\\sigma W_{t}$.\n",
    "* Brownian motion with drift: $X_{t}=X_{0}+\\mu t+\\sigma W_{t}$, so that $\\mathbb{E}[X_t]=X_{0}+\\mu t$, $\\mathrm{Var}[X_t]=\\sigma^{2}t$."
   ]
  },
  {
   "cell_type": "markdown",
   "metadata": {
    "slideshow": {
     "slide_type": "slide"
    }
   },
   "source": [
    "\n",
    "* Properties of Brownian Sample Paths:\n",
    "  * *Continuity*: by assumption, and also $W_{t+\\delta t}-W_{t}\\sim N(0,\\delta t)\\rightarrow 0$ as $\\delta t\\downarrow0$;\n",
    "  * *Nowhere differentiability*: intuitively, this is seen from\n",
    "$$\n",
    "\\frac{W_{t}-W_{t-\\delta t}}{\\delta t}\\sim N\\left( 0,\\frac{1}{\\delta t}\\right) ,\\quad \\frac{%\n",
    "W_{t+\\delta t}-W_{t}}{\\delta t}\\sim N\\left( 0,\\frac{1}{\\delta t}\\right) ;\n",
    "$$\n",
    "left and right difference quotients do not have (common) limit as $\\delta t\\downarrow 0$.\n",
    "  * *Self-similarity*: Zooming in on a Brownian motion yields another Brownian motion: for any $c>0$, $X_{t}=\\sqrt{c}W_{t/c}$ is\n",
    "a Brownian motion.\n",
    "\n"
   ]
  },
  {
   "cell_type": "markdown",
   "metadata": {
    "slideshow": {
     "slide_type": "slide"
    }
   },
   "source": [
    "<img src=\"img/BMpath.svg\" alt=\"Simulated Brownian Motion Path\" style=\"display:block; margin-left: auto; margin-right: auto; width: 80%;\">"
   ]
  },
  {
   "cell_type": "markdown",
   "metadata": {
    "slideshow": {
     "slide_type": "slide"
    }
   },
   "source": [
    "* Brownian motion itself is not a very useful model for stock prices, because it can become negative. Instead we model $X_t\\equiv \\log S_t$ as a Brownian motion with drift:\n",
    "\n",
    "\\begin{align*}\n",
    "X_{t}&=X_{0}+\\mu t+\\sigma W_{t}\\mbox{, so that}\\\\\n",
    "S_t&=\\exp(X_t)\\\\\n",
    "&=S_0\\exp(\\mu t+\\sigma W_{t}).\n",
    "\\end{align*}\n",
    "* The resulting process for $S_t$ is called *Geometric Brownian motion* (GBM).\n",
    "* This implies that the log return $\\log S_t-\\log S_s=X_t-X_s$, $s\\lt t$,\n",
    "is independent of $X_{s}$, with constant variance for fixed $(t-s)$."
   ]
  },
  {
   "cell_type": "markdown",
   "metadata": {
    "slideshow": {
     "slide_type": "slide"
    }
   },
   "source": [
    "<img src=\"img/GBMpath.svg\" alt=\"Simulated GBM Path\" style=\"display:block; margin-left: auto; margin-right: auto; width: 80%;\">"
   ]
  },
  {
   "cell_type": "markdown",
   "metadata": {
    "slideshow": {
     "slide_type": "slide"
    }
   },
   "source": [
    "## Continuous Time Martingales\n",
    "* In continuous time, a process $\\{X_{t}\\}_{t\\geq 0}$ is a *martingale* if\n",
    "  * $\\mathbb{E}[|X_{t}|]<\\infty $, for all $t\\ge 0$; \n",
    "  * $\\mathbb{E}[X_{t}|\\mathcal{F}_{s}]=X_{s}$, for all $t>s\\ge 0$,\n",
    "where $\\mathcal{F}_{t}$ denotes the information on $X_t$ up to time $t$.\n",
    "\n",
    "* E.g., for Brownian motion\n",
    "  * $\\mathbb{E}[|W_{t}|]<\\infty $ because $W_{t}\\sim N(0,t)$;\n",
    "  * $\\mathbb{E}[W_{t}|\\mathcal{F}_{s}] =\\mathbb{E}[W_{s}+(W_{t}-W_{s})|\\mathcal{F}_{s}]=W_{s}+0$ because of independent increments."
   ]
  },
  {
   "cell_type": "markdown",
   "metadata": {
    "slideshow": {
     "slide_type": "slide"
    }
   },
   "source": [
    "* For Geometric Brownian motion, $X_{t}=X_{0}\\exp \\left( \\mu t+\\sigma W_{t}\\right)$, so that $X_{t}=X_{s}\\exp \\left( \\mu (t-s)+\\sigma (W_{t}-W_s)\\right)$. Thus\n",
    "\n",
    "\\begin{align*}\n",
    "\\mathbb{E}[X_{t}|\\mathcal{F}_{s}] &=\\mathbb{E}\\left[ X_{s}\\exp \\left(\n",
    "\\mu (t-s)+\\sigma (W_{t}-W_{s})\\right) |\\mathcal{F}_{s}\\right] \\\\\n",
    "&=X_{s}\\exp \\left( \\mu (t-s)\\right) \\mathbb{E}\\left[ \\exp \\left( \\sigma\n",
    "(W_{t}-W_{s})\\right) \\right] \\\\\n",
    "&=X_{s}\\exp \\left( \\mu (t-s)\\right) \\exp \\left( \\tfrac{1}{2}\\sigma\n",
    "^{2}(t-s)\\right) .\n",
    "\\end{align*}\n",
    "* The last line above follows because $\\mathbb{E}[\\exp(z)]=\\mu+\\frac{1}{2}\\sigma^2$ if $z\\sim\\mathrm{N}(\\mu, \\sigma^2)$. The distribution of $\\exp(z)$ is called the *lognormal*.\n",
    "* Hence GBM is a martingale only if $\\mu =-\\tfrac{1}{2}\\sigma ^{2}$."
   ]
  },
  {
   "cell_type": "markdown",
   "metadata": {
    "collapsed": true,
    "slideshow": {
     "slide_type": "slide"
    }
   },
   "source": [
    "## Ito Processes\n",
    "* Ito processes generalize Brownian motion with drift by allowing the drift and volatility to be time-varying and potentially stochastic.\n",
    "* The trick is to describe the dynamics of a process with a *stochastic differential equation* (SDE), the continuous time equivalent of a stochastic difference equation.\n",
    "* Take, for example, Brownian motion with drift,\n",
    "$\n",
    "X_t=X_0+\\mu t+\\sigma W_t.\n",
    "$\n",
    "* We know from calculus that\n",
    "$$\n",
    "\\int_\\tau^t \\mu ds=\\mu\\int_\\tau^t  ds=\\mu (t-\\tau).\n",
    "$$\n",
    "* If we define $\\int_{\\tau}^t dW_s=W_t-W_\\tau$, then we see that\n",
    "$$\n",
    "X_t=X_0+\\int_{0}^t\\mu ds + \\int_{0}^t \\sigma dW_s.\n",
    "$$"
   ]
  },
  {
   "cell_type": "markdown",
   "metadata": {
    "slideshow": {
     "slide_type": "slide"
    }
   },
   "source": [
    "* This is often written in differential form as\n",
    "$$\n",
    "dX_t=\\mu d t + \\sigma dW_t.\n",
    "$$\n",
    "Note that this is just short hand notation for the integral form.\n",
    "* An Ito process generalizes this by allowing $\\mu$ and $\\sigma$ to be time-varying and stochastic:\n",
    "$$\n",
    "dX_t=\\mu_t d t + \\sigma_t dW_t.\\tag{$\\dagger$}\n",
    "$$\n",
    "* Again, this is just short-hand for \n",
    "$$\n",
    "X_t=X_0 +\\int_0^t \\mu_s d s + \\int_0^t \\sigma_s dW_s,\n",
    "$$\n",
    "where we define\n",
    "$$\n",
    "\\int_{0}^{T}\\mu_sds\\equiv\\lim_{n\\rightarrow \\infty\n",
    "}\\sum_{i=0}^{N-1}\\mu(t_{i})\\Delta t_{i+1},\n",
    "\\quad\n",
    "\\int_{0}^{T}\\sigma(t)dW_t\\equiv\\lim_{n\\rightarrow \\infty\n",
    "}\\sum_{i=0}^{N-1}\\sigma(t_{i})\\Delta W_{t_{i+1}},\n",
    "$$\n",
    "$t_i\\equiv iT/N$, $\\Delta t_{i+1}\\equiv t_{i+1}-t_{i}$, and $\\Delta W_{t_{i+1}}\\equiv [W_{t_{i+1}}-W_{t_{i}}]$."
   ]
  },
  {
   "cell_type": "markdown",
   "metadata": {
    "slideshow": {
     "slide_type": "slide"
    }
   },
   "source": [
    "* Remarks:\n",
    "  * $X_t$ is the sum of two integrals. The first is called a *Riemann integral*, the second is an *Ito integral*. \n",
    "  * **Do not** think of the integrals as an *area under the curve* like in high school. Your intuition for the Ito integral should be that we are summing infinitesimally small Brownian increments $dW_t$, each scaled by the instantaneous volatility $\\sigma_t$.\n",
    "  * If $\\mu_t$ and $\\sigma_t$ depend only on the *current* $W_t$, then ($\\dagger$) is called a *stochastic differential equation*. Example: $\\mu (t,x)=\\mu x$ and $\\sigma (t,x)=\\sigma x$, so that\n",
    "$$\n",
    "dX_{t}=\\mu X_{t}dt+\\sigma X_{t}dW_{t}.\n",
    "$$\n",
    "  * The *solution* to an SDE is an equation that describes $X_t$ in terms of just $W_t$ (i.e., $X_t$ does not appear on the RHS). Often, Ito's lemma is helpful in finding it."
   ]
  },
  {
   "cell_type": "markdown",
   "metadata": {
    "slideshow": {
     "slide_type": "slide"
    }
   },
   "source": [
    "## Ito's Lemma\n",
    "* Ito's lemma answers the question: if $X_t$ is an Ito process with given dynamics, then what are the dynamics of a function $f(t,X_t)$?\n",
    "* It can be stated as follows: Let $\\{X_{t}\\}_{t\\ge0}$ be an Ito process satisfying $dX_{t} = \\mu_{t}dt\n",
    "+ \\sigma_{t}dW_{t}$, and consider a function $f : \\mathbb{R}^{+} \\times \\mathbb{R} \\to \\mathbb{R}$\n",
    "with continuous partial derivatives\n",
    "$$\n",
    "\\dot{f}(t,x)=\\frac{\\partial f(t,x)}{\\partial t},\\qquad f^{\\prime }(t,x)=\\frac{\\partial f(t,x)}{\\partial x},\\qquad f^{\\prime \\prime }(t,x)=\\frac{\\partial ^{2}f(t,x)}{\\partial x^{2}}.\n",
    "$$\n",
    "Then\n",
    "$$\n",
    "df(t,X_{t})=\\dot{f}(t,X_{t})dt+f^{\\prime }(t,X_{t})dX_{t}+\\tfrac{1}{2}\n",
    "f^{\\prime \\prime }(t,X_{t})\\sigma _{t}^{2}dt.\n",
    "$$"
   ]
  },
  {
   "cell_type": "markdown",
   "metadata": {
    "slideshow": {
     "slide_type": "slide"
    }
   },
   "source": [
    "* Example: Geometric Brownian Motion. Let\n",
    "$$\n",
    "dS_t=S_t \\mu dt +S_t \\sigma dW_t,\\tag{$\\ddagger$}\n",
    "$$\n",
    "and $X_t=f(S_t)=\\log S_t$. Then $\\dot f (S_t) = 0$, $ f' (S_t) = 1/S_t$, $f'' (S_t) = -1/S_t^2$, and\n",
    "\n",
    "\\begin{align*}\n",
    "dX_t=d f(S_t)&= \\dot f (S_t) dt +  f' (S_t)  dS_t + \\frac{1}{2} f'' (S_t) (S_t \\sigma)^2 dt\\\\\n",
    "        &= \\frac{1}{S_t}  dS_t - \\frac{1}{2S_t^2} (S_t \\sigma)^2  dt\\\\\n",
    "        &= \\frac{1}{S_t}  (S_t \\mu dt +S_t \\sigma dW_t) - \\frac{1}{2} \\sigma^2 dt\\\\\n",
    "        &=  \\nu dt + \\sigma dW_t, \\quad \\nu=\\mu-\\frac{1}{2}\\sigma^2\n",
    "\\end{align*}\n",
    "* I.e., ($\\ddagger$) is the SDE for GBM:  $S_t=\\exp(X_t)=S_0\\exp(\\nu t + \\sigma W_t)$."
   ]
  },
  {
   "cell_type": "markdown",
   "metadata": {
    "slideshow": {
     "slide_type": "slide"
    }
   },
   "source": [
    "* Intuition (see Hull, 2012, Appendix to Ch. 13): In standard calculus, the total differential\n",
    "$$\n",
    "df=\\dot{f}(t,g(t))dt+f^{\\prime }(t,g(t))dg(t)\n",
    "$$\n",
    "is the linear part of a Taylor expansion; the remaining terms\n",
    "are of smaller order as $dt, dg(t) \\to 0$, so the total differential is a local linear approximation to $f$.\n",
    "* If $g(t)=X_t$, an Ito process, take a 2nd order Taylor approximation:\n",
    "\n",
    "\\begin{align*}\n",
    "&\\delta f\\approx \\dot{f}(t,X_{t})\\delta t+f^{\\prime\n",
    "}(t,X_{t})\\delta X_{t} \\\\\n",
    "&\\qquad \\qquad \\qquad \\qquad +\\frac{1}{2}\\left[ \\frac{\\partial ^{2}f}{%\n",
    "\\partial t^{2}}(\\delta t)^{2}+2\\frac{\\partial ^{2}f}{\\partial t\\partial X_{t}%\n",
    "}(\\delta t)(\\delta X_{t})+\\frac{\\partial ^{2}f}{\\partial X_{t}^{2}}(\\delta\n",
    "X_{t})^{2}\\right].\n",
    "\\end{align*}"
   ]
  },
  {
   "cell_type": "markdown",
   "metadata": {
    "slideshow": {
     "slide_type": "slide"
    }
   },
   "source": [
    "* We have that $\\delta X_{t}=(X_{t+\\delta t}-X_{t})\\approx \\mu_t \\delta t + \\sigma_t \\delta W_{t} \\sim N(\\mu_t \\delta t,\\sigma^2_t \\delta t)$. Thus, $\\mathbb{E} [(\\delta X_{t})^2]\\approx (\\mu_t\\delta t)^2+\\sigma^2_t\\delta t\\approx \\sigma^2_t\\delta t $; i.e., the 2nd order term is of the same order\n",
    "of magnitude as the 1st order term $\\delta t$. \n",
    "* It can be shown that as $\\delta t\\rightarrow 0$, $(\\delta X_{t})^{2}$ can be treated as non-stochastic: $(dX_{t})^{2}=\\sigma _{t}^{2}dt$.\n",
    "Together with $(dt)^{2}=0$ and $(dt)(dX_{t})=0$ this gives the result."
   ]
  },
  {
   "cell_type": "markdown",
   "metadata": {
    "slideshow": {
     "slide_type": "slide"
    }
   },
   "source": [
    "## Simulating Ito Processes\n",
    "* Suppose we want to simulate sample paths of an Ito process described by the SDE\n",
    "$$\n",
    "d X_t= \\mu(t,X_t) dt + \\sigma(t, X_t) d W_t.\n",
    "$$\n",
    "* For pricing European claims, we only need draws for $X_T$, but for path-dependent options, we need the entire path $\\{X_t\\}_{t\\in[0,T]}$.\n",
    "* A simple way is to discretize the model, for a small time step $\\delta t$, as\n",
    "$$\n",
    "\\delta X_t=X_{t+\\delta_t}-X_{t}\\approx \\mu(t,X_t) \\delta t + \\sigma(t, X_t) \\delta W_t,\n",
    "$$\n",
    "where $\\delta W_t\\sim N(0,\\delta t)$. This is known as the *Euler scheme*.\n",
    "* If $\\delta t=T/N$, we can sample the path at $N$ discrete times $t_i=i\\delta t$, as\n",
    "$$\n",
    "X_{i+1}=X_i+\\mu(t_i,X_i) \\delta t + \\sigma(t_i, X_i) \\sqrt{\\delta t} Z_i,\n",
    "$$\n",
    "where the $Z_i$ are independent standard normal random numbers and we use $X_{i}$ and $X_{i\\delta t}$ exchangeably."
   ]
  },
  {
   "cell_type": "markdown",
   "metadata": {
    "slideshow": {
     "slide_type": "slide"
    }
   },
   "source": [
    "* In order to implement this, we need a way of drawing random samples from the normal distribution.\n",
    "* Computers are deterministic machines. They cannot generate true random numbers.\n",
    "* Instead, they construct sequences of pseudo-random numbers from a specified distribution that *look* random, in the sense that they pass certain statistical tests.\n",
    "* E.g., NumPy's `np.random.randn(d0[, d1, ...]) ` constructs an array of standard normal pseudo random numbers.\n",
    "* Random number generators use a *seed* value for initialization. Given the same seed, the same pseudo-random sequence will be returned.\n",
    "* NumPy picks the the seed automatically. To force it to use a specific seed, use `np.random.seed(n)`. Putting this line at the beginning of your Monte-Carlo program ensures that you get exactly the same results every time the program is run."
   ]
  },
  {
   "cell_type": "markdown",
   "metadata": {
    "slideshow": {
     "slide_type": "slide"
    }
   },
   "source": [
    "**Example 1**: Simulating Brownian Motion"
   ]
  },
  {
   "cell_type": "code",
   "execution_count": 1,
   "metadata": {
    "collapsed": true,
    "slideshow": {
     "slide_type": "-"
    }
   },
   "outputs": [],
   "source": [
    "import numpy as np\n",
    "import matplotlib.pyplot as plt\n",
    "import pandas as pd\n",
    "%matplotlib inline\n",
    "def bmsim(T, N, X0=0, mu=0, sigma=1):\n",
    "    \"\"\"\n",
    "    Simulate a Brownian motion path.\n",
    "    \"\"\"\n",
    "    deltaT=float(T)/N\n",
    "    tvec=np.linspace(0, T, N+1)\n",
    "    z=np.random.randn(N)    \n",
    "    dX=mu*deltaT+sigma*np.sqrt(deltaT)*z #X[j+1]-X[j]=mu*deltaT+sigma*np.sqrt(deltaT)*z[j]\n",
    "    X=np.cumsum(dX)\n",
    "    X=np.insert(X, 0, X0) #X[0]=X0\n",
    "    return pd.Series(X, index=tvec)\n",
    "np.random.seed(0)  \n",
    "W=bmsim(1, 1000)\n",
    "W.plot()\n",
    "plt.title('Simulated Brownian Motion Path')\n",
    "plt.xlabel(\"$t$\"); plt.ylabel(\"$W_t$\"); plt.savefig(\"img/BMpath.svg\"); plt.close()"
   ]
  },
  {
   "cell_type": "markdown",
   "metadata": {
    "slideshow": {
     "slide_type": "slide"
    }
   },
   "source": [
    "<img src=\"img/BMpath.svg\" alt=\"Simulated Brownian Motion Path\" style=\"display:block; margin-left: auto; margin-right: auto; width: 80%;\">"
   ]
  },
  {
   "cell_type": "markdown",
   "metadata": {
    "slideshow": {
     "slide_type": "slide"
    }
   },
   "source": [
    "**Example 2**: Simulating GBM\n",
    "* The Euler scheme for the GBM $dS_t=S_t \\mu dt +S_t \\sigma dW_t$ is\n",
    "$$\n",
    "S_{i+1}=S_i+S_i \\mu \\delta t + S_i \\sigma \\sqrt{\\delta t} Z_i.\n",
    "$$"
   ]
  },
  {
   "cell_type": "code",
   "execution_count": 2,
   "metadata": {
    "collapsed": true
   },
   "outputs": [],
   "source": [
    "from numba import jit\n",
    "@jit\n",
    "def gbmsim(T, N, S0=1, mu=0, sigma=1):\n",
    "    \"Simulate a Geometric Brownian motion path.\"\n",
    "    deltaT=float(T)/N\n",
    "    tvec=np.linspace(0, T, N+1)\n",
    "    z=np.random.randn(N)\n",
    "    S=np.zeros(N+1)\n",
    "    S[0]=S0\n",
    "    for j in xrange(0, N): #note: we can no longer vectorize this, because S[j] is needed for S[j+1]\n",
    "        S[j+1]=S[j]+mu*S[j]*deltaT+sigma*S[j]*np.sqrt(deltaT)*z[j]\n",
    "    return pd.Series(S, index=tvec)\n",
    "np.random.seed(0)  \n",
    "S=gbmsim(1, 1000)\n",
    "S.plot()\n",
    "plt.title('Simulated Geometric Brownian Motion Path')\n",
    "plt.xlabel(\"$t$\"); plt.ylabel(\"$S_t$\");\n",
    "plt.savefig(\"img/GBMpath.svg\"); plt.close()"
   ]
  },
  {
   "cell_type": "markdown",
   "metadata": {
    "slideshow": {
     "slide_type": "slide"
    }
   },
   "source": [
    "<img src=\"img/GBMpath.svg\" alt=\"Simulated GBM Path\" style=\"display:block; margin-left: auto; margin-right: auto; width: 80%;\">"
   ]
  },
  {
   "cell_type": "markdown",
   "metadata": {
    "slideshow": {
     "slide_type": "slide"
    }
   },
   "source": [
    "* In the case of BM, the Euler scheme correctly reproduces the distribution of the $W_{t_i}$.\n",
    "* This is not true in general: in Example 2 above, \n",
    "the Euler approximation\n",
    "$$\n",
    "S_{i+1}=S_i+S_i \\mu \\delta t + S_i \\sigma \\sqrt{\\delta t} Z_i\n",
    "$$\n",
    "implies that the distribution of $S_{t+\\delta t}-S_t$ is normal, not log-normal.\n",
    "* Under mild conditions, the error introduced by discretization will disappear as $\\delta t\\rightarrow 0$.\n",
    "* In the case of GBM, this error can be avoided altogether: let $X_t=\\log S_t$. By Ito's lemma,\n",
    "$$\n",
    "dX_t  =  \\nu dt + \\sigma dW_t, \\quad \\nu=\\mu-\\frac{1}{2}\\sigma^2\n",
    "$$\n",
    "so we can simulate $X_t$ instead and then take the exponential."
   ]
  },
  {
   "cell_type": "code",
   "execution_count": 3,
   "metadata": {
    "slideshow": {
     "slide_type": "slide"
    }
   },
   "outputs": [
    {
     "data": {
      "image/png": "[encoded data removed]",
      "text/plain": [
       "<matplotlib.figure.Figure at 0x7fc675bea890>"
      ]
     },
     "metadata": {},
     "output_type": "display_data"
    }
   ],
   "source": [
    "N=1000 #try changing N to 100, then 10.\n",
    "np.random.seed(0)\n",
    "S1=gbmsim(1, N)\n",
    "np.random.seed(0) #it's important to use the same seed here, or else we'll get different paths.\n",
    "S2=np.exp(bmsim(1, N, 0, -.5))\n",
    "S1.plot()\n",
    "S2.plot(linestyle=\":\")\n",
    "plt.title(\"Euler Scheme vs. Exact\")\n",
    "plt.xlabel(\"$t$\")\n",
    "plt.ylabel(\"$S_t$\")\n",
    "plt.legend([\"Euler\", \"Exact\"]);"
   ]
  },
  {
   "cell_type": "markdown",
   "metadata": {
    "slideshow": {
     "slide_type": "slide"
    }
   },
   "source": [
    "## The Black-Scholes Model"
   ]
  },
  {
   "cell_type": "markdown",
   "metadata": {},
   "source": [
    "* Black and Scholes assumed the following model:\n",
    "  * The stock $\\{S_{t}\\}_{t\\in \\lbrack 0,T]}$ follows GBM:\n",
    "$$\n",
    "dS_{t} =\\mu S_{t}dt+\\sigma S_{t}dW_{t}\n",
    "$$\n",
    "\n",
    "  * The stock pays no dividends.\n",
    "  * Cash bond price $B_{t}=e^{rt}\\Longleftrightarrow dB_{t}=rB_{t}dt$; riskless lending and borrowing at the same rate $r$.\n",
    "  * European style derivative option with price $C_{t}$ and payoff $C_{T}=(S_{T})$.\n",
    "  * Trading may occur continuously, with no transaction costs.\n",
    "  * No arbitrage opportunities.\n",
    "* The problem is to find the option price $C_{t},t\\in \\lbrack 0,T]$. "
   ]
  },
  {
   "cell_type": "markdown",
   "metadata": {
    "slideshow": {
     "slide_type": "slide"
    }
   },
   "source": [
    "* It can be shown that the FTAP holds in continuous time as well: if the market is arbitrage free, then there exists a risk neutral measure $\\mathbb{Q}$ under which all assets earn the risk free rate (on average), and the price of a claim is the discounted expected payoff under $\\mathbb{Q}$. If the market is complete, then $\\mathbb{Q}$ is unique. This gives us a pricing formula for general European claims:\n",
    "$$\n",
    "C_{t}=e^{-r(T-t)}\\mathbb{E}^{\\mathbb{Q}}\\left[ \\left.\n",
    "C_{T}\\right\\vert \\mathcal{F}_{t}\\right] .\n",
    "$$\n",
    "* This implies that if we can simulate the stock price under the measure $\\mathbb{Q}$, then we can price the claim by Monte Carlo simulation."
   ]
  },
  {
   "cell_type": "markdown",
   "metadata": {
    "slideshow": {
     "slide_type": "slide"
    }
   },
   "source": [
    "* In the BS model, it can be shown that under the risk-neutral measure $\\mathbb{Q}$,\n",
    "$$\n",
    "dS_{t} =r S_{t}dt+\\sigma S_{t}dW^{\\mathbb{Q}}_{t},\n",
    "$$\n",
    "where $W^{\\mathbb{Q}}_{t}$ is a $\\mathbb{Q}$-Brownian Motion.\n",
    "* Note that by Ito's Formula, the discounted stock price $\\tilde{S}_t\\equiv e^{-rt}S_t=:f(t,S_t)$ satisfies\n",
    "\n",
    "\\begin{align*}\n",
    "d\\tilde{S}_t&= \\dot{f}(t,S_t) dt + f'(t,S_t) dS_t +\\frac{1}{2}f''(t,S_t) \\sigma^2 S_t^2 dt\\\\\n",
    "&=-re^{-rt}S_tdt+e^{-rt}dS_t+0\\\\\n",
    "&=-r\\tilde{S}_tdt+e^{-rt}(r S_{t}dt+\\sigma S_{t}dW^{\\mathbb{Q}}_{t} )\\\\\n",
    "&=\\sigma \\tilde{S}_{t}dW^{\\mathbb{Q}}_{t},\n",
    "\\end{align*}\n",
    "* I.e., $\\tilde{S}_t$ is an Ito process without drift, and thus a martingale. This is the reason $\\mathbb{Q}$ is also called the equivalent martingale measure."
   ]
  },
  {
   "cell_type": "markdown",
   "metadata": {
    "slideshow": {
     "slide_type": "slide"
    }
   },
   "source": [
    "* We can extend the BS model by assuming that the stock pays a continuous dividend at rate $\\delta $. Then a position of 1 share generates an instantaneous dividend stream $\\delta S_{t}dt$, in addition to the capital gains $dS_{t}$.\n",
    "* Note that only the holder of the underlying receives the dividend; the option is written on the stock (without dividends).\n",
    "* The pricing formula remains the same, but now the risk-neutral dynamics of $S_{t}$ are\n",
    "$$\n",
    "dS_{t}=(r-\\delta )S_{t}dt+\\sigma S_{t}dW^\\mathbb{Q}_{t}.\n",
    "$$\n",
    "* The expected growth rate of the stock under $\\mathbb{Q}$ is $r-\\delta $, so the expected return from holding the stock (capital gains plus dividend yield) is $r$.\n",
    "* The price of a call is now\n",
    "$$\n",
    "C_{t}=e^{-\\delta (T-t)}S_{t}\\Phi (d_{1})-e^{-r(T-t)}K\\Phi (d_{2}),\n",
    "$$\n",
    "where\n",
    "$$\n",
    "d_{1,2}=\\frac{\\log (S_{t}/K)+[(r-\\delta )\\pm \\frac{1}{2}\\sigma ^{2}](T-t)}{\\sigma \\sqrt{T-t}}.\n",
    "$$"
   ]
  },
  {
   "cell_type": "markdown",
   "metadata": {
    "slideshow": {
     "slide_type": "slide"
    }
   },
   "source": [
    "## Monte Carlo Pricing\n",
    "* The goal in Monte Carlo simulation is to obtain an estimate of\n",
    "$$\n",
    "\\theta\\equiv \\mathbb{E}[X],\n",
    "$$\n",
    "for some random variable $X$ with finite expectation.\n",
    "* Suppose we have a sample $\\{X_i\\}_{i\\in\\{1,\\ldots,n\\}}$ of *independent* draws of $X$, and let\n",
    "$$\n",
    "\\bar{X}_n=\\frac{1}{n}\\sum_{i=1}^n X_i\n",
    "$$\n",
    "* The sample average $\\bar{X}_n$ is an *unbiased estimator* of $\\theta$ : $\\mathbb{E}[\\bar{X}_n]=\\theta$.\n",
    "* The *weak law of large numbers* states that\n",
    "$$\n",
    "\\bar{X}_n\\stackrel p \\rightarrow \\theta,\n",
    "$$\n",
    "where the arrow denotes *convergence in probability*. This means that as the sample size grows, the sample mean becomes a better and better estimate of $\\theta$."
   ]
  },
  {
   "cell_type": "markdown",
   "metadata": {
    "slideshow": {
     "slide_type": "slide"
    }
   },
   "source": [
    "* If we have a way of drawing random numbers from the distribution of $X$, then we can use this to estimate $\\theta$: we simply draw $n$ realizations of $X$ and compute the sample mean of the $X_i$. $n$ is called the number of *replications*.\n",
    "* For finite $n$, the sample average will be an approximation to $\\theta$. It is usually desirable to have an estimate of the accuracy of this approximation.\n",
    "* Such an estimate can be obtained from the *central limit theorem* (CLT), which states that\n",
    "$$\n",
    "\\sqrt{n}(\\bar{X}_n-\\theta)\\stackrel d\\rightarrow N\\left(0,\\sigma^2\\right),\n",
    "$$\n",
    "provided that $\\sigma^2$, the variance of $X$, is finite. The arrow denotes convergence in distribution; this implies that for large $n$, $\\bar{X}_n$ has approximately a normal distribution.\n",
    "* Of course $\\sigma^2$ is unknown, but we can estimate it as\n",
    "$$\n",
    "\\hat{\\sigma}^2=\\frac{1}{n}\\sum_{i=1}^n \\left(\\bar{X}_n-X_i\\right)^2.\n",
    "$$"
   ]
  },
  {
   "cell_type": "markdown",
   "metadata": {
    "slideshow": {
     "slide_type": "slide"
    }
   },
   "source": [
    "* A 95% *confidence interval* (CI) is an interval $[c_l,c_u]$ such that\n",
    "$$\n",
    "\\mathbb{P}[c_l\\leq \\theta \\leq c_u]=0.95.\n",
    "$$\n",
    "* The CLT implies that, in the limit as $n\\rightarrow\\infty$,\n",
    "\n",
    "\\begin{align*}\n",
    "\\mathbb{P}[-1.96 \\sigma\\leq \\sqrt{n}(\\bar{X}_n-\\theta)\\leq 1.96 \\sigma ]&=0.95\\Leftrightarrow\\\\\n",
    "\\mathbb{P}[\\bar{X}_n-1.96 \\frac{\\sigma}{\\sqrt{n}}\\leq \\theta\\leq \\bar{X}_n+1.96 \\frac{\\sigma}{\\sqrt{n}} ]&=0.95.\n",
    "\\end{align*}\n",
    "* Hence $c_l=\\bar{X}_n-1.96 \\frac{\\sigma}{\\sqrt{n}}$ and $c_u=\\bar{X}_n+1.96 \\frac{\\sigma}{\\sqrt{n}}$ asymptotically.\n",
    "* Note that $c_l$ and $c_u$ are random variables; we should interpret this as \"before the experiment is performed, there is a 95% chance that a CI computed according to this formula will contain $\\theta$\". After performing the experiment, this statement is not valid anymore; the interval is now fixed, and contains $\\theta$ with probability either 0 or 1.\n",
    "* The unknown parameter $\\sigma$ can be consistently estimated by $\\sqrt{\\hat{\\sigma}^2}$."
   ]
  }
 ],
 "metadata": {
  "celltoolbar": "Slideshow",
  "kernelspec": {
   "display_name": "Python 2",
   "language": "python",
   "name": "python2"
  },
  "language_info": {
   "codemirror_mode": {
    "name": "ipython",
    "version": 2
   },
   "file_extension": ".py",
   "mimetype": "text/x-python",
   "name": "python",
   "nbconvert_exporter": "python",
   "pygments_lexer": "ipython2",
   "version": "2.7.13"
  },
  "livereveal": {
   "start_slideshow_at": "selected"
  }
 },
 "nbformat": 4,
 "nbformat_minor": 2
}
