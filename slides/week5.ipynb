{
 "cells": [
  {
   "cell_type": "markdown",
   "metadata": {
    "slideshow": {
     "slide_type": "slide"
    }
   },
   "source": [
    "<p style=\"text-align: center; font-size: 300%\"> Computational Finance </p>\n",
    "<img src=\"img/ABSlogo.svg\" alt=\"LOGO\" style=\"display:block; margin-left: auto; margin-right: auto; width: 50%;\">"
   ]
  },
  {
   "cell_type": "markdown",
   "metadata": {
    "slideshow": {
     "slide_type": "slide"
    }
   },
   "source": [
    "# Monte Carlo Methods\n",
    "## Brownian Motion\n",
    "* We saw last week that the binomial tree implies for $X_t\\equiv \\log S_t$ that\n",
    "$$\n",
    "X_{i\\delta t}=X_{(i-1)\\delta t}+R_i \\Longleftrightarrow\n",
    "\\Delta X_i = R_i,\\tag{$\\dagger$}\n",
    "$$\n",
    "  where $R_i=\\log u$ or $R_i=\\log d$, with probabilities $\\mathbb{Q}[u]$ and $\\mathbb{Q}[d]$. \n",
    "* Equation ($\\dagger$) is a *stochastic difference equation*.\n",
    "* Its *solution* \n",
    "$$\n",
    "X_T=\\log S_0 +\\sum_{i=1}^N R_i=\\log S_0 +\\sigma \\sqrt{\\delta t}(2k-N)\n",
    "$$\n",
    "is called a *binomial process*, or in the special case with\n",
    "$\\mathbb{E}[R_i]=0$, a *random walk*.\n"
   ]
  },
  {
   "cell_type": "markdown",
   "metadata": {
    "slideshow": {
     "slide_type": "slide"
    }
   },
   "source": [
    "* We also saw that if we let $N\\rightarrow\\infty$ (so that $\\delta t \\rightarrow 0$),\n",
    "$$\n",
    "X_T-X_0\\stackrel{d}{\\rightarrow}N(\\mu T,\\sigma^2 T),\\quad \\mu\\equiv r-\\frac{1}{2}\\sigma^2.\n",
    "$$\n",
    "* The argument can be repeated for every $X_t, t\\leq T$, showing that\n",
    "$$\n",
    "X_t-X_0\\stackrel{d}{\\rightarrow}N(\\mu t,\\sigma^2 t),\n",
    "$$\n",
    "and that for any $0<t<T$, $X_t-X_0$ and $X_T-X_t$ are independent.\n",
    "* As $\\delta t\\rightarrow 0$, $\\{X_t\\}_{t\\geq 0}$ becomes a continuous time process: the indexing set is now given by the entire positive real line.\n",
    "* This continuous time limit (with $\\mu=0$ and $\\sigma^2=1$) is called *Brownian motion*, or *Wiener process*.\n",
    "* From now on, rather than modelling in discrete time and then letting $\\delta t \\rightarrow 0$, we will directly model in continuous time, using Brownian motion as a building block."
   ]
  },
  {
   "cell_type": "markdown",
   "metadata": {
    "slideshow": {
     "slide_type": "slide"
    }
   },
   "source": [
    "\n",
    "* Definition of (standard) *Brownian Motion*:\n",
    "Stochastic process $\\{W_{t}\\}_{t\\geq 0}$ satisfying\n",
    "  * $W_{0}=0$;\n",
    "  * The increments $W_{t} - W_s$ are independent for all $0 \\le s < t$;\n",
    "  * $W_{t} - W_s \\sim N(0,t-s)$ for all $0 \\le s \\le t$;\n",
    "  * Continuous sample paths.\n",
    "\n",
    "* This is standard Brownian motion, whereas $X_{t}=\\sigma W_{t}$ is Brownian motion with variance $\\sigma ^{2}$.\n",
    "* Restriction that process start at zero may be loosened by considering $X_{t}=X_{0}+\\sigma W_{t}$.\n",
    "* Brownian motion with drift: $X_{t}=X_{0}+\\mu t+\\sigma W_{t}$, so that $\\mathbb{E}[X_t]=X_{0}+\\mu t$, $\\mathrm{Var}[X_t]=\\sigma^{2}t$."
   ]
  },
  {
   "cell_type": "markdown",
   "metadata": {
    "slideshow": {
     "slide_type": "slide"
    }
   },
   "source": [
    "\n",
    "* Properties of Brownian Sample Paths:\n",
    "  * *Continuity*: by assumption, and also $W_{t+\\delta t}-W_{t}\\sim N(0,\\delta t)\\rightarrow 0$ as $\\delta t\\downarrow0$;\n",
    "  * *Nowhere differentiability*: intuitively, this is seen from\n",
    "$$\n",
    "\\frac{W_{t}-W_{t-\\delta t}}{\\delta t}\\sim N\\left( 0,\\frac{1}{\\delta t}\\right) ,\\quad \\frac{%\n",
    "W_{t+\\delta t}-W_{t}}{\\delta t}\\sim N\\left( 0,\\frac{1}{\\delta t}\\right) ;\n",
    "$$\n",
    "left and right difference quotients do not have (common) limit as $\\delta t\\downarrow 0$.\n",
    "  * *Self-similarity*: Zooming in on a Brownian motion yields another Brownian motion: for any $c>0$, $X_{t}=\\sqrt{c}W_{t/c}$ is\n",
    "a Brownian motion.\n",
    "\n"
   ]
  },
  {
   "cell_type": "code",
   "execution_count": 1,
   "metadata": {
    "collapsed": true,
    "slideshow": {
     "slide_type": "skip"
    }
   },
   "outputs": [],
   "source": [
    "import numpy as np\n",
    "import matplotlib.pyplot as plt\n",
    "import pandas as pd\n",
    "%matplotlib inline\n",
    "np.random.seed(0)\n",
    "def bmsim(T, N, X0=0, mu=0, sigma=1):\n",
    "    \"\"\"\n",
    "    Simulate a Brownian motion path.\n",
    "    \"\"\"\n",
    "    deltaT=float(T)/N\n",
    "    tvec=np.linspace(0, T, N+1)\n",
    "    z=np.random.randn(N)    \n",
    "    dX=mu*deltaT+sigma*np.sqrt(deltaT)*z #X[j+1]-X[j]=mu*deltaT+sigma*np.sqrt(deltaT)*z[j]\n",
    "    X=np.cumsum(dX)\n",
    "    X=np.insert(X, 0, 0.) #X[0]=0\n",
    "    return pd.Series(X, index=tvec)\n",
    "  \n",
    "W=bmsim(1, 1000)\n",
    "W.plot()\n",
    "plt.title('Simulated Brownian Motion Path')\n",
    "plt.xlabel(\"$t$\")\n",
    "plt.ylabel(\"$W_t$\")\n",
    "plt.savefig(\"img/BMpath.svg\")\n",
    "plt.close()"
   ]
  },
  {
   "cell_type": "markdown",
   "metadata": {
    "slideshow": {
     "slide_type": "slide"
    }
   },
   "source": [
    "<img src=\"img/BMpath.svg\" alt=\"Simulated Brownian Motion Path\" style=\"display:block; margin-left: auto; margin-right: auto; width: 80%;\">"
   ]
  },
  {
   "cell_type": "markdown",
   "metadata": {
    "slideshow": {
     "slide_type": "slide"
    }
   },
   "source": [
    "* Brownian motion itself is not a very useful model for stock prices, because it can become negative. Instead we model $X_t\\equiv \\log S_t$ as a Brownian motion with drift:\n",
    "\n",
    "\\begin{align*}\n",
    "X_{t}&=X_{0}+\\mu t+\\sigma W_{t}\\mbox{, so that}\\\\\n",
    "S_t&=\\exp(X_t)\\\\\n",
    "&=S_0\\exp(\\mu t+\\sigma W_{t}).\n",
    "\\end{align*}\n",
    "* The resulting process for $S_t$ is called *Geometric Brownian motion* (GBM).\n",
    "* This implies that the log return $\\log S_t-\\log S_s=X_t-X_s$, $s\\lt t$,\n",
    "is independent of $X_{s}$, with constant variance for fixed $(t-s)$."
   ]
  },
  {
   "cell_type": "code",
   "execution_count": 2,
   "metadata": {
    "collapsed": true,
    "slideshow": {
     "slide_type": "skip"
    }
   },
   "outputs": [],
   "source": [
    "X=np.exp(W)\n",
    "X.plot()\n",
    "plt.title('Simulated GBM Path, $\\mu=0$, $\\sigma=1$.')\n",
    "plt.xlabel(\"$t$\")\n",
    "plt.ylabel(\"$\\exp(W_t)$\")\n",
    "plt.savefig(\"img/GBMpath.svg\")\n",
    "plt.close()"
   ]
  },
  {
   "cell_type": "markdown",
   "metadata": {
    "slideshow": {
     "slide_type": "slide"
    }
   },
   "source": [
    "<img src=\"img/GBMpath.svg\" alt=\"Simulated GBM Path\" style=\"display:block; margin-left: auto; margin-right: auto; width: 80%;\">"
   ]
  },
  {
   "cell_type": "markdown",
   "metadata": {
    "slideshow": {
     "slide_type": "slide"
    }
   },
   "source": [
    "## Continuous Time Martingales\n",
    "* In continuous time, a process $\\{X_{t}\\}_{t\\geq 0}$ is a *martingale* if\n",
    "  * $\\mathbb{E}[|X_{t}|]<\\infty $, for all $t\\ge 0$; \n",
    "  * $\\mathbb{E}[X_{t}|\\mathcal{F}_{s}]=X_{s}$, for all $t>s\\ge 0$,\n",
    "where $\\mathcal{F}_{t}$ denotes the information on $X_t$ up to time $t$.\n",
    "\n",
    "* E.g., for Brownian motion\n",
    "  * $\\mathbb{E}[|W_{t}|]<\\infty $ because $W_{t}\\sim N(0,t)$;\n",
    "  * $\\mathbb{E}[W_{t}|\\mathcal{F}_{s}] =\\mathbb{E}[W_{s}+(W_{t}-W_{s})|\\mathcal{F}_{s}]=W_{s}+0$ because of independent increments."
   ]
  },
  {
   "cell_type": "markdown",
   "metadata": {
    "slideshow": {
     "slide_type": "slide"
    }
   },
   "source": [
    "* For Geometric Brownian motion, $X_{t}=X_{0}\\exp \\left( \\mu t+\\sigma W_{t}\\right)$, so that $X_{t}=X_{s}\\exp \\left( \\mu (t-s)+\\sigma (W_{t}-W_s)\\right)$. Thus\n",
    "\n",
    "\\begin{align*}\n",
    "\\mathbb{E}[X_{t}|\\mathcal{F}_{s}] &=\\mathbb{E}\\left[ X_{s}\\exp \\left(\n",
    "\\mu (t-s)+\\sigma (W_{t}-W_{s})\\right) |\\mathcal{F}_{s}\\right] \\\\\n",
    "&=X_{s}\\exp \\left( \\mu (t-s)\\right) \\mathbb{E}\\left[ \\exp \\left( \\sigma\n",
    "(W_{t}-W_{s})\\right) \\right] \\\\\n",
    "&=X_{s}\\exp \\left( \\mu (t-s)\\right) \\exp \\left( \\tfrac{1}{2}\\sigma\n",
    "^{2}(t-s)\\right) .\n",
    "\\end{align*}\n",
    "* The last line above follows because $\\mathbb{E}[\\exp(z)]=\\mu+\\frac{1}{2}\\sigma^2$ if $z\\sim\\mathrm{N}(\\mu, \\sigma^2)$. The distribution of $\\exp(z)$ is called the *lognormal*.\n",
    "* Hence GBM is a martingale only if $\\mu =-\\tfrac{1}{2}\\sigma ^{2}$."
   ]
  },
  {
   "cell_type": "markdown",
   "metadata": {
    "collapsed": true,
    "slideshow": {
     "slide_type": "slide"
    }
   },
   "source": [
    "## Ito Processes\n",
    "* Ito processes generalize Brownian motion with drift by allowing the drift and volatility to be time-varying and potentially stochastic.\n",
    "* The trick is to describe the dynamics of a process with a *stochastic differential equation* (SDE), the continuous time equivalent of a stochastic difference equation.\n",
    "* Take, for example, Brownian motion with drift,\n",
    "$\n",
    "X_t=X_0+\\mu t+\\sigma W_t.\n",
    "$\n",
    "* We know from calculus that\n",
    "$$\n",
    "\\int_\\tau^t \\mu ds=\\mu\\int_\\tau^t  ds=\\mu (t-\\tau).\n",
    "$$\n",
    "* If we define $\\int_{\\tau}^t dW_s=W_t-W_\\tau$, then we see that\n",
    "$$\n",
    "X_t=X_0+\\int_{0}^t\\mu ds + \\int_{0}^t \\sigma dW_s.\n",
    "$$"
   ]
  },
  {
   "cell_type": "markdown",
   "metadata": {
    "slideshow": {
     "slide_type": "slide"
    }
   },
   "source": [
    "* This is often written in differential form as\n",
    "$$\n",
    "dX_t=\\mu d t + \\sigma dW_t.\n",
    "$$\n",
    "Note that this is just short hand notation for the integral form.\n",
    "* An Ito process generalizes this by allowing $\\mu$ and $\\sigma$ to be time-varying and stochastic:\n",
    "$$\n",
    "dX_t=\\mu_t d t + \\sigma_t dW_t.\\tag{$\\dagger$}\n",
    "$$\n",
    "* Again, this is just short-hand for \n",
    "$$\n",
    "X_t=X_0 +\\int_0^t \\mu_s d s + \\int_0^t \\sigma_s dW_s,\n",
    "$$\n",
    "where we define\n",
    "$$\n",
    "\\int_{0}^{T}\\mu_sds\\equiv\\lim_{n\\rightarrow \\infty\n",
    "}\\sum_{i=0}^{N-1}\\mu(t_{i})\\Delta t_{i+1},\n",
    "\\quad\n",
    "\\int_{0}^{T}\\sigma(t)dW_t\\equiv\\lim_{n\\rightarrow \\infty\n",
    "}\\sum_{i=0}^{N-1}\\sigma(t_{i})\\Delta W_{t_{i+1}},\n",
    "$$\n",
    "$t_i\\equiv iT/N$, $\\Delta t_{i+1}\\equiv t_{i+1}-t_{i}$, and $\\Delta W_{t_{i+1}}\\equiv [W_{t_{i+1}}-W_{t_{i}}]$."
   ]
  },
  {
   "cell_type": "markdown",
   "metadata": {
    "slideshow": {
     "slide_type": "slide"
    }
   },
   "source": [
    "* Remarks:\n",
    "  * $X_t$ is the sum of two integrals. The first is called a *Riemann integral*, the second is an *Ito integral*. \n",
    "  * **Do not** think of the integrals as an *area under the curve* like in high school. Your intuition for the Ito integral should be that we are summing infinitesimally small Brownian increments $dW_t$, each scaled by the instantaneous volatility $\\sigma_t$.\n",
    "  * If $\\mu_t$ and $\\sigma_t$ depends only on the current $W_t$, then ($\\dagger$) is called a *stochastic differential equation*. Example: $\\mu (t,x)=\\mu x$ and $\\sigma (t,x)=\\sigma x$, so that\n",
    "$$\n",
    "dX_{t}=\\mu X_{t}dt+\\sigma X_{t}dW_{t}.\n",
    "$$\n",
    "  * The *solution* to an SDE is an equation that describes $X_t$ in terms of just $W_t$ (i.e., $X_t$ does not appear on the RHS). Often, Ito's lemma is helpful in finding it."
   ]
  },
  {
   "cell_type": "markdown",
   "metadata": {
    "slideshow": {
     "slide_type": "slide"
    }
   },
   "source": [
    "## Ito's Lemma\n",
    "* Ito's lemma answers the question: if $X_t$ is an Ito process with given dynamics, then what are the dynamics of a function $f(t,X_t)$?\n",
    "* It can be stated as follows: Let $\\{X_{t}\\}_{t\\ge0}$ be an Ito process satisfying $dX_{t} = \\mu_{t}dt\n",
    "+ \\sigma_{t}dW_{t}$, and consider a function $f : \\mathbb{R}^{+} \\times \\mathbb{R} \\to \\mathbb{R}$\n",
    "with continuous partial derivatives\n",
    "$$\n",
    "\\dot{f}(t,x)=\\frac{\\partial f(t,x)}{\\partial t},\\qquad f^{\\prime }(t,x)=\\frac{\\partial f(t,x)}{\\partial x},\\qquad f^{\\prime \\prime }(t,x)=\\frac{\\partial ^{2}f(t,x)}{\\partial x^{2}}.\n",
    "$$\n",
    "Then\n",
    "$$\n",
    "df(t,X_{t})=\\dot{f}(t,X_{t})dt+f^{\\prime }(t,X_{t})dX_{t}+\\tfrac{1}{2}\n",
    "f^{\\prime \\prime }(t,X_{t})\\sigma _{t}^{2}dt.\n",
    "$$"
   ]
  },
  {
   "cell_type": "markdown",
   "metadata": {
    "slideshow": {
     "slide_type": "slide"
    }
   },
   "source": [
    "* Example: Geometric Brownian Motion. Let\n",
    "$dS_t=S_t \\mu dt +S_t \\sigma dW_t\\tag{$\\ddagger$}$\n",
    "and take $X_t=f(S_t)=\\log S_t$. Then $\\dot f (S_t) = 0$, $ f' (S_t) = 1/S_t$, $f'' (S_t) = -1/S_t^2$, and\n",
    "\n",
    "\\begin{align*}\n",
    "dX_t=d f(S_t)&= \\dot f (S_t) dt +  f' (S_t)  dS_t + \\frac{1}{2} f'' (S_t) (S_t \\sigma)^2 dt\\\\\n",
    "        &= \\frac{1}{S_t}  dS_t - \\frac{1}{2S_t^2} (S_t \\sigma)^2  dt\\\\\n",
    "        &= \\frac{1}{S_t}  (S_t \\mu dt +S_t \\sigma dW_t) - \\frac{1}{2} \\sigma^2 dt\\\\\n",
    "        &=  \\nu dt + \\sigma dW_t, \\quad \\nu=\\mu-\\frac{1}{2}\\sigma^2\n",
    "\\end{align*}\n",
    "* I.e., ($\\ddagger$) is the SDE for GBM:  $S_t=\\exp(X_t)=S_0\\exp(\\nu t + \\sigma W_t)$."
   ]
  },
  {
   "cell_type": "markdown",
   "metadata": {
    "slideshow": {
     "slide_type": "slide"
    }
   },
   "source": [
    "* Intuition (see Hull, 2012, Appendix to Ch. 13): In standard calculus, the total differential\n",
    "$$\n",
    "df=\\dot{f}(t,g(t))dt+f^{\\prime }(t,g(t))dg(t)\n",
    "$$\n",
    "is the linear part of a Taylor expansion; the remaining terms\n",
    "are of smaller order as $dt, dg(t) \\to 0$, so the total differential is a local linear approximation to $f$.\n",
    "* If $g(t)=X_t$, an Ito process, take a 2nd order Taylor approximation:\n",
    "\n",
    "\\begin{align*}\n",
    "&\\delta f\\approx \\dot{f}(t,X_{t})\\delta t+f^{\\prime\n",
    "}(t,X_{t})\\delta X_{t} \\\\\n",
    "&\\qquad \\qquad \\qquad \\qquad +\\frac{1}{2}\\left[ \\frac{\\partial ^{2}f}{%\n",
    "\\partial t^{2}}(\\delta t)^{2}+2\\frac{\\partial ^{2}f}{\\partial t\\partial X_{t}%\n",
    "}(\\delta t)(\\delta X_{t})+\\frac{\\partial ^{2}f}{\\partial X_{t}^{2}}(\\delta\n",
    "X_{t})^{2}\\right].\n",
    "\\end{align*}"
   ]
  },
  {
   "cell_type": "markdown",
   "metadata": {
    "slideshow": {
     "slide_type": "slide"
    }
   },
   "source": [
    "* We have that $\\delta X_{t}=(X_{t+\\delta t}-X_{t})\\approx \\mu_t \\delta t + \\sigma_t \\delta W_{t} \\sim N(\\mu_t \\delta t,\\sigma^2_t \\delta t)$. Thus, $\\mathbb{E} [(\\delta X_{t})^2]\\approx (\\mu_t\\delta t)^2+\\sigma^2_t\\delta t\\approx \\sigma^2_t\\delta t $; i.e., the 2nd order term is of the same order\n",
    "of magnitude as the 1st order term $\\delta t$. \n",
    "* It can be shown that as $\\delta t\\rightarrow 0$, $(\\delta X_{t})^{2}$ can be treated as non-stochastic: $(dX_{t})^{2}=\\sigma _{t}^{2}dt$.\n",
    "Together with $(dt)^{2}=0$ and $(dt)(dX_{t})=0$ this gives the result."
   ]
  }
 ],
 "metadata": {
  "celltoolbar": "Slideshow",
  "kernelspec": {
   "display_name": "Python 2",
   "language": "python",
   "name": "python2"
  },
  "language_info": {
   "codemirror_mode": {
    "name": "ipython",
    "version": 2
   },
   "file_extension": ".py",
   "mimetype": "text/x-python",
   "name": "python",
   "nbconvert_exporter": "python",
   "pygments_lexer": "ipython2",
   "version": "2.7.13"
  },
  "livereveal": {
   "start_slideshow_at": "selected"
  }
 },
 "nbformat": 4,
 "nbformat_minor": 2
}
